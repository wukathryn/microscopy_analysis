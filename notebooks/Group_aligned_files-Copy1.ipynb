{
 "cells": [
  {
   "cell_type": "code",
   "execution_count": null,
   "id": "2697934c-e6d6-4ad2-8e90-2acd0a288d43",
   "metadata": {},
   "outputs": [],
   "source": [
    "from pathlib import Path\n",
    "import shutil\n",
    "import subprocess\n",
    "\n",
    "import sys\n",
    "src_path = str(Path.cwd().parent.parent)\n",
    "if src_path not in sys.path:\n",
    "    sys.path.append(src_path)\n",
    "import src.d00_utils.utilities as utils\n",
    "import src.d00_utils.dirnames as dn"
   ]
  },
  {
   "cell_type": "code",
   "execution_count": null,
   "id": "9729714b-9e4b-4480-84d2-4bf0f7b67418",
   "metadata": {},
   "outputs": [],
   "source": [
    "# Recursively rename all csv files with the same name\n",
    "\n",
    "path = Path(input(\"input dirpath:\"))\n",
    "files_to_rename = []\n",
    "new_paths = []\n",
    "for p in path.rglob(\"*.csv\"):\n",
    "    wellinfo = utils.get_proc_dirpath(p).parent.name\n",
    "    print(f'orig filename: {p.name}')\n",
    "    files_to_rename.append(p)\n",
    "    new_path = p.parent /(f'{wellinfo}_{p.name}')\n",
    "    print(f'new name: {new_path.name}')\n",
    "    new_paths.append(new_path)"
   ]
  },
  {
   "cell_type": "code",
   "execution_count": null,
   "id": "16d9fc54-d80e-46cf-bd9d-96ad2c9e9d8d",
   "metadata": {},
   "outputs": [],
   "source": [
    "rename = input(\"Rename paths? Y to confirm\")\n",
    "if rename=='Y':\n",
    "    n = 0\n",
    "    for p, new_path in zip(files_to_rename, new_paths):\n",
    "        if p.is_file():\n",
    "            p.rename(new_path)\n",
    "            n=n+1\n",
    "    print(f'{n} paths renamed')\n",
    "else:\n",
    "    print('Paths not renamed')"
   ]
  },
  {
   "cell_type": "code",
   "execution_count": null,
   "id": "fcd30ae1-d8a7-43b4-a45c-8fc2af1e1acb",
   "metadata": {},
   "outputs": [],
   "source": [
    "input_dirpath = Path(input())"
   ]
  },
  {
   "cell_type": "code",
   "execution_count": null,
   "id": "2682603f-02f5-4109-84dc-878dca6f04f7",
   "metadata": {},
   "outputs": [],
   "source": [
    "# Create new image processing directory to compile files into\n",
    "dest_dirpath = input_dirpath / dn.proc_dirname\n",
    "dest_dirpath.mkdir(parents=True, exist_ok=True)\n",
    "print(f'Destination path: {dest_dirpath}')\n",
    "\n",
    "# Find source directories (img_processing directories)\n",
    "idv_dirpaths = [path for path in input_dirpath.iterdir() if path.name != dn.proc_dirname]\n",
    "\n",
    "source_dirpaths = []\n",
    "for d in idv_dirpaths:\n",
    "    subdirpath = d / dn.proc_dirname\n",
    "    if subdirpath.is_dir():\n",
    "        source_dirpaths.append(subdirpath)\n",
    "    else:\n",
    "        print(f'{subdirpath} not found')\n",
    "print(f'{len(source_dirpaths)} directories to move.')"
   ]
  },
  {
   "cell_type": "code",
   "execution_count": null,
   "id": "850bc79a-13f0-4f27-b3ed-75616e341a71",
   "metadata": {},
   "outputs": [],
   "source": [
    "for source_dirpath in source_dirpaths:\n",
    "    print(source_dirpath)\n",
    "    \n",
    "    # Sync directories\n",
    "    rsync_cmd = 'rsync' + ' --remove-source-files -avP \\\"' + str(source_dirpath) + '/\\\" \\\"' + str(dest_dirpath) + '\\\"'\n",
    "    print(rsync_cmd)\n",
    "    subprocess.run(rsync_cmd, shell=True)"
   ]
  },
  {
   "cell_type": "code",
   "execution_count": null,
   "id": "1e9cf299-c1c4-46a8-b9a1-4e906d4a23d3",
   "metadata": {},
   "outputs": [],
   "source": [
    "for source_dirpath in source_dirpaths:\n",
    "    print(len(list(source_dirpath.rglob('*'))))\n",
    "    for p in source_dirpath.rglob('*'):\n",
    "        if p.is_file():\n",
    "            print(p.name)\n",
    "    #     shutil.rmtree()\n",
    "\n",
    "        "
   ]
  },
  {
   "cell_type": "code",
   "execution_count": null,
   "id": "7500fe3c-91e4-4b69-b2f3-1674e5c339ec",
   "metadata": {},
   "outputs": [],
   "source": []
  }
 ],
 "metadata": {
  "kernelspec": {
   "display_name": "Python 3 (ipykernel)",
   "language": "python",
   "name": "python3"
  },
  "language_info": {
   "codemirror_mode": {
    "name": "ipython",
    "version": 3
   },
   "file_extension": ".py",
   "mimetype": "text/x-python",
   "name": "python",
   "nbconvert_exporter": "python",
   "pygments_lexer": "ipython3",
   "version": "3.10.9"
  }
 },
 "nbformat": 4,
 "nbformat_minor": 5
}

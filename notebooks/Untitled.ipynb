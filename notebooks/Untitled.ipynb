{
 "cells": [
  {
   "cell_type": "code",
   "execution_count": null,
   "id": "2a1467ae-d87a-4c07-be3f-2c9f9535194b",
   "metadata": {},
   "outputs": [],
   "source": [
    "from pathlib import Path\n",
    "import pandas as pd"
   ]
  },
  {
   "cell_type": "code",
   "execution_count": null,
   "id": "b853e93f-c1c2-4651-b8a8-e9e5316ac891",
   "metadata": {},
   "outputs": [],
   "source": [
    "input_csv = Path(input())"
   ]
  },
  {
   "cell_type": "code",
   "execution_count": null,
   "id": "13e686b8-a3e9-4186-8367-b9bf6bc10879",
   "metadata": {},
   "outputs": [],
   "source": [
    "df = pd.read_csv(input_csv)"
   ]
  },
  {
   "cell_type": "code",
   "execution_count": null,
   "id": "79fa138a-a6f4-4044-b56c-94c2d159bf00",
   "metadata": {},
   "outputs": [],
   "source": [
    "df_subset = df[df['Experiment']=='CE031']\n",
    "df_subset"
   ]
  },
  {
   "cell_type": "code",
   "execution_count": null,
   "id": "1851d337-576c-4f18-b614-b653af6e6fb3",
   "metadata": {},
   "outputs": [],
   "source": [
    "df_subset = df[df['Experiment']=='CE031']\n",
    "df_subset = df[df['CAAX ch']==0]\n",
    "df_subset\n",
    "\n",
    "well_list = list(df['wellID'])\n",
    "well_list"
   ]
  },
  {
   "cell_type": "code",
   "execution_count": null,
   "id": "62ea7663-313a-4de2-9880-3a4bfe4003c5",
   "metadata": {},
   "outputs": [],
   "source": [
    "input_dirpath = Path(input())"
   ]
  },
  {
   "cell_type": "code",
   "execution_count": null,
   "id": "a60b02a0-8d20-4d0f-b435-f1b5f5f146ef",
   "metadata": {},
   "outputs": [],
   "source": [
    "wrongfile = []\n",
    "\n",
    "dir_wellIDs = []\n",
    "for p in input_dirpath.glob('*.ome.tif'):\n",
    "    basename = p.name.split('.')[0]\n",
    "    basename_split = basename.split('_')\n",
    "    exp = basename_split[0]\n",
    "    dish = basename_split[1]\n",
    "    well = basename_split[-1].split('-')[-1]\n",
    "    wellID = f'{exp}-{dish}-{well}'\n",
    "    dir_wellIDs.append(wellID)"
   ]
  },
  {
   "cell_type": "code",
   "execution_count": null,
   "id": "4aa62485-b01e-4aec-b1b2-67d3330962d5",
   "metadata": {},
   "outputs": [],
   "source": [
    "print(len(wellID))"
   ]
  },
  {
   "cell_type": "code",
   "execution_count": null,
   "id": "f2d91dea-8ca8-433a-9b8f-72c4a1135e1b",
   "metadata": {},
   "outputs": [],
   "source": [
    "print(len(well_list))"
   ]
  },
  {
   "cell_type": "code",
   "execution_count": null,
   "id": "b7d3fc1b-8364-4671-89e6-48cc5917fc73",
   "metadata": {},
   "outputs": [],
   "source": []
  }
 ],
 "metadata": {
  "kernelspec": {
   "display_name": "Python 3 (ipykernel)",
   "language": "python",
   "name": "python3"
  },
  "language_info": {
   "codemirror_mode": {
    "name": "ipython",
    "version": 3
   },
   "file_extension": ".py",
   "mimetype": "text/x-python",
   "name": "python",
   "nbconvert_exporter": "python",
   "pygments_lexer": "ipython3",
   "version": "3.10.9"
  }
 },
 "nbformat": 4,
 "nbformat_minor": 5
}

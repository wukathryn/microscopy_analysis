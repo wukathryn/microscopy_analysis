{
 "cells": [
  {
   "cell_type": "code",
   "execution_count": null,
   "id": "687c37ea-f6b6-409b-b885-1b6b4c5e6ed1",
   "metadata": {},
   "outputs": [],
   "source": [
    "from pathlib import Path\n",
    "import numpy as np\n",
    "\n",
    "from aicsimageio import AICSImage\n",
    "from aicsimageio.readers.ome_tiff_reader import OmeTiffReader\n",
    "from aicsimageio.writers import OmeTiffWriter\n",
    "\n",
    "import sys\n",
    "src_path = str(Path.cwd().parent.parent)\n",
    "if src_path not in sys.path:\n",
    "    sys.path.append(src_path)\n",
    "\n",
    "import src.d00_utils.utilities as utils"
   ]
  },
  {
   "cell_type": "code",
   "execution_count": null,
   "id": "716f88fb-d809-4809-a56d-a601b7a9b2ac",
   "metadata": {},
   "outputs": [],
   "source": [
    "selected = ['P62-A2']"
   ]
  },
  {
   "cell_type": "code",
   "execution_count": null,
   "id": "9c5824ba-db29-43a4-982d-cfe767d5e46f",
   "metadata": {},
   "outputs": [],
   "source": [
    "prev_train_imgpath = Path(input())"
   ]
  },
  {
   "cell_type": "code",
   "execution_count": null,
   "id": "40f4d230-c6b9-4d5b-a811-21b5c97771a6",
   "metadata": {},
   "outputs": [],
   "source": [
    "input_dir = Path(input())"
   ]
  },
  {
   "cell_type": "code",
   "execution_count": null,
   "id": "4a596668-cc73-47d2-b219-4fabc0e70ca2",
   "metadata": {},
   "outputs": [],
   "source": [
    "imgpaths = []\n",
    "\n",
    "for selection in selected:\n",
    "    imgpaths.extend([imgpath for imgpath in input_dir.glob(f'*{selection}*')])\n",
    "\n",
    "print(imgpaths)"
   ]
  },
  {
   "cell_type": "code",
   "execution_count": null,
   "id": "14659508-b232-4c55-abe8-92aed2a6150e",
   "metadata": {},
   "outputs": [],
   "source": [
    "imgs = []\n",
    "\n",
    "prev_img_file = AICSImage(prev_train_imgpath, reader=OmeTiffReader)\n",
    "prev_img = prev_img_file.data\n",
    "imgs.append(prev_img)\n",
    "\n",
    "for imgpath in imgpaths:\n",
    "    img_file = AICSImage(imgpath, reader=OmeTiffReader)\n",
    "    img = img_file.data\n",
    "    \n",
    "    if img.shape[0] > 1:\n",
    "        img_fewtps = np.concatenate([img[0, np.newaxis, :, :, :, :], img[1, np.newaxis, :, :, :, :], img[-1, np.newaxis, :, :, :, :]], axis=0)\n",
    "        imgs.append(img_fewtps)\n",
    "    else:\n",
    "        imgs.append(img)\n",
    "\n",
    "    "
   ]
  },
  {
   "cell_type": "code",
   "execution_count": null,
   "id": "60892748-6725-440d-9b55-9dbcd2808916",
   "metadata": {},
   "outputs": [],
   "source": [
    "# Get the smallest y and x dimensions to crop all images to the same size\n",
    "\n",
    "y_min = None\n",
    "x_min = None\n",
    "\n",
    "for img in imgs:\n",
    "    print(img.shape)\n",
    "    \n",
    "    if y_min is None:\n",
    "        y_min = img.shape[3]\n",
    "    else:\n",
    "        y_min = np.minimum(img.shape[3], y_min)\n",
    "    \n",
    "    if x_min is None:\n",
    "        x_min = img.shape[4]\n",
    "    else:\n",
    "        x_min = np.minimum(img.shape[4], x_min)\n",
    "\n",
    "imgs_crop = [img[:, :, :, :y_min, :x_min] for img in imgs]\n",
    "imgs_crops = imgs"
   ]
  },
  {
   "cell_type": "code",
   "execution_count": null,
   "id": "81e3b840-d422-49b6-913f-b5f4741e1407",
   "metadata": {},
   "outputs": [],
   "source": [
    "imgs_stacked = np.concatenate(imgs_crop, axis=0)\n",
    "print(imgs_stacked.shape)"
   ]
  },
  {
   "cell_type": "code",
   "execution_count": null,
   "id": "09167431-11b0-498a-b645-977e3345edb0",
   "metadata": {},
   "outputs": [],
   "source": [
    "ome_metadata = utils.construct_ome_metadata(imgs_stacked, physical_pixel_sizes=prev_img_file.physical_pixel_sizes)"
   ]
  },
  {
   "cell_type": "code",
   "execution_count": null,
   "id": "8e9f3b82-6e6f-4dfc-a66b-9a2af06a7d97",
   "metadata": {},
   "outputs": [],
   "source": [
    "savename = input(\"Enter name for stacked image (excluding suffix):\")\n",
    "savedir = Path('/Users/kwu2/Library/CloudStorage/GoogleDrive-kwu2@stanford.edu/My Drive/Lab/ImageJ/training_imgs')\n",
    "savepath = savedir / (savename + '.ome.tif')"
   ]
  },
  {
   "cell_type": "code",
   "execution_count": null,
   "id": "0e44a72a-3c08-46e3-8786-98dbc03ac244",
   "metadata": {},
   "outputs": [],
   "source": [
    "OmeTiffWriter.save(imgs_stacked, savepath, ome_xml=ome_metadata)"
   ]
  },
  {
   "cell_type": "code",
   "execution_count": null,
   "id": "be1a8c49-4efa-49a9-afa6-64ff0408a038",
   "metadata": {},
   "outputs": [],
   "source": []
  }
 ],
 "metadata": {
  "kernelspec": {
   "display_name": "Python 3 (ipykernel)",
   "language": "python",
   "name": "python3"
  },
  "language_info": {
   "codemirror_mode": {
    "name": "ipython",
    "version": 3
   },
   "file_extension": ".py",
   "mimetype": "text/x-python",
   "name": "python",
   "nbconvert_exporter": "python",
   "pygments_lexer": "ipython3",
   "version": "3.10.9"
  }
 },
 "nbformat": 4,
 "nbformat_minor": 5
}

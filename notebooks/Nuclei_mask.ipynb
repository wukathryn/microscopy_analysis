{
 "cells": [
  {
   "cell_type": "code",
   "execution_count": null,
   "id": "d653220b-b630-4a7a-9ae1-611a0a76f808",
   "metadata": {},
   "outputs": [],
   "source": [
    "from pathlib import Path\n",
    "import numpy as np\n",
    "import pandas as pd\n",
    "from aicsimageio import AICSImage\n",
    "from aicsimageio.readers.ome_tiff_reader import OmeTiffReader\n",
    "import matplotlib.pyplot as plt\n",
    "%matplotlib notebook\n",
    "%matplotlib inline\n",
    "\n",
    "import sys\n",
    "src_path = str(Path.cwd().parent)\n",
    "if src_path not in sys.path:\n",
    "    sys.path.append(src_path)\n",
    "from src.d00_utils.dirnames import excl_analysis_dirname\n",
    "from src.d00_utils import utilities as utils\n",
    "from src.d01_init_proc.applymask import subtract_nuclei_from_cellmasks"
   ]
  },
  {
   "cell_type": "code",
   "execution_count": null,
   "id": "b4f99a96-9c86-4b16-896a-6b4c9e48877a",
   "metadata": {},
   "outputs": [],
   "source": [
    "nuclei_dirpath = '/Users/kwu2/Library/CloudStorage/GoogleDrive-kwu2@stanford.edu/My Drive/Lab/CryoEM_live_imaging/Experiments/CE012/CZI_to_process/div7_posttimelapse_and_div7_fixed_stained_aligned/img_processing/masks/nucleimasks'"
   ]
  },
  {
   "cell_type": "code",
   "execution_count": null,
   "id": "b5cceaa2-4903-43ee-aa45-7644fab8531e",
   "metadata": {},
   "outputs": [],
   "source": [
    "subtract_nuclei_from_cellmasks(nuclei_dirpath)"
   ]
  },
  {
   "cell_type": "code",
   "execution_count": null,
   "id": "3d9594d8-4ec5-4a9f-9f4b-4df35f39d36a",
   "metadata": {},
   "outputs": [],
   "source": []
  }
 ],
 "metadata": {
  "kernelspec": {
   "display_name": "Python 3 (ipykernel)",
   "language": "python",
   "name": "python3"
  },
  "language_info": {
   "codemirror_mode": {
    "name": "ipython",
    "version": 3
   },
   "file_extension": ".py",
   "mimetype": "text/x-python",
   "name": "python",
   "nbconvert_exporter": "python",
   "pygments_lexer": "ipython3",
   "version": "3.10.9"
  }
 },
 "nbformat": 4,
 "nbformat_minor": 5
}

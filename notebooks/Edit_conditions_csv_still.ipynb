{
 "cells": [
  {
   "cell_type": "code",
   "execution_count": null,
   "id": "22744f5c-917a-4102-822d-47943da2746c",
   "metadata": {},
   "outputs": [],
   "source": [
    "import pandas as pd\n",
    "import numpy as np\n",
    "from pathlib import Path\n",
    "import sys\n",
    "src_path = str(Path.cwd().parent.parent)\n",
    "if src_path not in sys.path:\n",
    "    sys.path.append(src_path)\n",
    "import src.d00_utils.utilities as utils"
   ]
  },
  {
   "cell_type": "code",
   "execution_count": null,
   "id": "01c811e6-1790-4d20-a2fe-05e085852fd1",
   "metadata": {},
   "outputs": [],
   "source": [
    "conditions_csvpath = Path(input())"
   ]
  },
  {
   "cell_type": "code",
   "execution_count": null,
   "id": "a782679b-63b5-4b7b-8a5e-53abadf0825b",
   "metadata": {},
   "outputs": [],
   "source": [
    "df = pd.read_csv(conditions_csvpath)\n",
    "df.head()"
   ]
  },
  {
   "cell_type": "code",
   "execution_count": null,
   "id": "7ca0bc97-588c-4ee8-9462-399e1b7a8818",
   "metadata": {},
   "outputs": [],
   "source": [
    "df['wellID'] = df['Experiment'] + '-' + df['Ibidi'] + '-' + df['Well']\n",
    "df.head()"
   ]
  },
  {
   "cell_type": "code",
   "execution_count": null,
   "id": "c183c995-44c8-4ace-abf6-e5c39323dc6d",
   "metadata": {},
   "outputs": [],
   "source": [
    "caax_plasmids = ['218', '281', '283']\n",
    "caax_chs = [0, 1, 1]\n",
    "\n",
    "unique_caax_chs = np.unique(caax_chs)\n",
    "for caax_ch in unique_caax_chs:\n",
    "    idc = np.where(np.array(caax_chs) == caax_ch)[0]\n",
    "    plasmids = [str(caax_plasmids[i]) for i in idc]\n",
    "    df[f'caaxch_{caax_ch}'] = (df['Virus'].str.contains('|'.join(plasmids)))"
   ]
  },
  {
   "cell_type": "code",
   "execution_count": null,
   "id": "d2b1cb9e-35ad-48c5-9d66-234d9d27688e",
   "metadata": {},
   "outputs": [],
   "source": [
    "savename = conditions_csvpath.name.split('.')[0] + '_modified.csv'\n",
    "df.to_csv(conditions_csvpath.parent / savename, index=False)"
   ]
  },
  {
   "cell_type": "code",
   "execution_count": null,
   "id": "6f0e21b3-1fb1-46a7-98c5-bba8a2435a62",
   "metadata": {},
   "outputs": [],
   "source": []
  }
 ],
 "metadata": {
  "kernelspec": {
   "display_name": "Python 3 (ipykernel)",
   "language": "python",
   "name": "python3"
  },
  "language_info": {
   "codemirror_mode": {
    "name": "ipython",
    "version": 3
   },
   "file_extension": ".py",
   "mimetype": "text/x-python",
   "name": "python",
   "nbconvert_exporter": "python",
   "pygments_lexer": "ipython3",
   "version": "3.10.9"
  }
 },
 "nbformat": 4,
 "nbformat_minor": 5
}

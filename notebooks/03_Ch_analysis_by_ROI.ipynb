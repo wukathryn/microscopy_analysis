{
 "cells": [
  {
   "cell_type": "code",
   "execution_count": null,
   "id": "8118a8d3-fd27-4683-8dad-c799b377cec1",
   "metadata": {},
   "outputs": [],
   "source": [
    "# Import packages\n",
    "import sys\n",
    "import numpy as np\n",
    "from pathlib import Path\n",
    "import pandas as pd\n",
    "import matplotlib.pyplot as plt\n",
    "import seaborn as sns\n",
    "\n",
    "src_path = str(Path.cwd().parent)\n",
    "if src_path not in sys.path:\n",
    "    sys.path.append(src_path)\n",
    "    \n",
    "from src.d03_exclusion_analysis import analyze_ch_byROI"
   ]
  },
  {
   "cell_type": "code",
   "execution_count": null,
   "id": "fa7c2882-edf5-441c-9a29-f286227012a7",
   "metadata": {},
   "outputs": [],
   "source": [
    "input_dirpath = Path(input())"
   ]
  },
  {
   "cell_type": "code",
   "execution_count": null,
   "id": "0f80bc40-8335-4484-8860-de0b24a97455",
   "metadata": {},
   "outputs": [],
   "source": [
    "analyze_ch_byROI.batch_exclusion_analysis(input_dirpath)"
   ]
  },
  {
   "cell_type": "code",
   "execution_count": null,
   "id": "27706a35-ab02-4a33-b07c-afb99d845a1d",
   "metadata": {},
   "outputs": [],
   "source": []
  }
 ],
 "metadata": {
  "kernelspec": {
   "display_name": "Python 3 (ipykernel)",
   "language": "python",
   "name": "python3"
  },
  "language_info": {
   "codemirror_mode": {
    "name": "ipython",
    "version": 3
   },
   "file_extension": ".py",
   "mimetype": "text/x-python",
   "name": "python",
   "nbconvert_exporter": "python",
   "pygments_lexer": "ipython3",
   "version": "3.10.9"
  }
 },
 "nbformat": 4,
 "nbformat_minor": 5
}

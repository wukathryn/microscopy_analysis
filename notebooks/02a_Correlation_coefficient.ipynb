{
 "cells": [
  {
   "cell_type": "code",
   "execution_count": null,
   "id": "991af864-5201-4acb-adf7-b9d22181a9b8",
   "metadata": {},
   "outputs": [],
   "source": [
    "# import packages\n",
    "import sys\n",
    "import numpy as np\n",
    "from pathlib import Path\n",
    "from aicsimageio import AICSImage\n",
    "from aicsimageio.readers.ome_tiff_reader import OmeTiffReader\n",
    "from scipy.signal import correlate\n",
    "import pandas as pd\n",
    "from math import factorial\n",
    "import seaborn as sns\n",
    "import matplotlib.pyplot as plt\n",
    "%matplotlib notebook\n",
    "%matplotlib inline\n",
    "\n",
    "src_path = str(Path.cwd().parent)\n",
    "if src_path not in sys.path:\n",
    "    sys.path.append(src_path)\n",
    "from src.d00_utils import utilities as utils\n",
    "from src.d00_utils.dirnames import masked_imgs_dirname, corr_dirname, proc_dirname, analyses_dirname\n",
    "\n",
    "from scipy.stats import ttest_rel"
   ]
  },
  {
   "cell_type": "code",
   "execution_count": null,
   "id": "127911c5-6e31-4de9-bee6-a636f33da21f",
   "metadata": {},
   "outputs": [],
   "source": [
    "input_dirpath = '/Users/kwu2/Library/CloudStorage/GoogleDrive-kwu2@stanford.edu/My Drive/Lab/CryoEM_live_imaging/Experiments/CE012/CZI_to_process/div7_posttimelapse_and_div7_fixed_stained_aligned/img_processing/masked_imgs/raw_ometifs_masked_cellmasks_no_nuc'"
   ]
  },
  {
   "cell_type": "code",
   "execution_count": null,
   "id": "839b98ed-29d3-4755-b6c6-e9356f0ef0ce",
   "metadata": {},
   "outputs": [],
   "source": [
    "caax_live_ch = 0\n",
    "caax_fix_ch = 2\n",
    "cell_ch = 1\n",
    "MBP_ch = 3\n",
    "\n",
    "ch_labels = {caax_live_ch: 'CAAX (live)',\n",
    "             caax_fix_ch: 'CAAX (fixed)', \n",
    "             cell_ch: 'cell membrane', MBP_ch: 'MBP'}"
   ]
  },
  {
   "cell_type": "code",
   "execution_count": null,
   "id": "abe831ae-225e-4b2c-acac-96a889769a71",
   "metadata": {},
   "outputs": [],
   "source": [
    "input_dirpath = Path(input_dirpath)\n",
    "\n",
    "proc_dirpath = utils.get_proc_dirpath(input_dirpath)\n",
    "corr_dirpath = proc_dirpath / analyses_dirname / corr_dirname\n",
    "corr_dirpath.mkdir(parents=True, exist_ok=True)\n",
    "\n",
    "input_dirname = input_dirpath.name\n",
    "analysis_name = f'p_coeff_{input_dirname}'\n",
    "p_coeff_path = corr_dirpath / f'{analysis_name}.csv'"
   ]
  },
  {
   "cell_type": "code",
   "execution_count": null,
   "id": "d1bff62c-29f0-4ae6-b17e-abc2d52d0aa8",
   "metadata": {},
   "outputs": [],
   "source": [
    "# Calculate correlation coefficient\n",
    "imgpaths = [path for path in Path(input_dirpath).glob('*.ome.tif')]\n",
    "\n",
    "def norm_data(data):\n",
    "    \"\"\"\n",
    "    normalize data to have mean=0 and standard_deviation=1\n",
    "    \"\"\"\n",
    "    mean_data=np.mean(data)\n",
    "    std_data=np.std(data, ddof=1)\n",
    "    #return (data-mean_data)/(std_data*np.sqrt(data.size-1))\n",
    "    return (data-mean_data)/(std_data)\n",
    "\n",
    "def show_images(imgname, ch1_img, ch2_img, combined_img, p_coeff):\n",
    "    fig, axs = plt.subplots(1, 3)\n",
    "    axs[0].imshow(ch1_img, cmap='gray')\n",
    "    axs[0].set_title(f'Ch {ch1} img')\n",
    "    axs[0].axis('off')\n",
    "    \n",
    "    axs[1].imshow(ch2_img, cmap='gray')\n",
    "    axs[1].set_title(f'Ch {ch2} img')\n",
    "    axs[1].axis('off')\n",
    "    \n",
    "    axs[2].imshow(combined_img, cmap='gray')\n",
    "    axs[2].set_title('Mask')\n",
    "    axs[2].axis('off')\n",
    "    fig.suptitle(f'{imgname}\\n p-coeff: {p_coeff}')\n",
    "    plt.tight_layout()\n",
    "    plt.show()\n",
    "    \n",
    "\n",
    "# Calculate Pearson coefficient\n",
    "def calculate_p_coeff(ch1_img, ch2_img):\n",
    "    ch1_norm = (norm_data(ch1_img)).flatten()\n",
    "    ch2_norm = (norm_data(ch2_img)).flatten()\n",
    "    \n",
    "    cov_matrix = np.corrcoef(ch1_norm, ch2_norm)\n",
    "    p_coeff = cov_matrix[0, 1]\n",
    "    return p_coeff\n",
    "\n",
    "p_coeff_table = pd.DataFrame()\n",
    "for imgpath in imgpaths:\n",
    "    \n",
    "    img_file = AICSImage(imgpath, reader=OmeTiffReader)\n",
    "    img = img_file.data\n",
    "    img_d = utils.extract_img_info(imgpath.name)\n",
    "    \n",
    "    # Loop through every combination of channels\n",
    "    size_c = img.shape[1]\n",
    "    for ch1 in range(size_c):\n",
    "        for ch2 in range((ch1+1), size_c):\n",
    "            ch1_img = img[:, ch1, :, :, :].squeeze()\n",
    "            ch2_img = img[:, ch2, :, :, :].squeeze()\n",
    "            \n",
    "            combined_img = ch1_img + ch2_img\n",
    "            ch1_img = ch1_img[combined_img > 0].flatten()\n",
    "            ch2_img = ch2_img[combined_img > 0].flatten()\n",
    "            \n",
    "            p_coeff = calculate_p_coeff(ch1_img, ch2_img)\n",
    "            img_d[f'{ch_labels[ch1]} and {ch_labels[ch2]}'] = [p_coeff]\n",
    "    p_coeff_table = pd.concat([p_coeff_table, img_d], ignore_index=True)\n",
    "                 \n",
    "    #show_images(imgpath.name, ch1_img, ch2_img, combined_img, p_coeff)\n",
    "\n",
    "p_coeff_table.to_csv(p_coeff_path)\n",
    "    "
   ]
  },
  {
   "cell_type": "code",
   "execution_count": null,
   "id": "3c94ff59-e4e1-4df6-bc7a-db179ec27f52",
   "metadata": {},
   "outputs": [],
   "source": [
    "col_names = list(p_coeff_table.columns)\n",
    "print(col_names)"
   ]
  },
  {
   "cell_type": "code",
   "execution_count": null,
   "id": "1aad4caa-8000-4fc3-9376-78978cb1ba63",
   "metadata": {},
   "outputs": [],
   "source": [
    "img_info_cols = col_names[:6]\n",
    "p_coeff_dfm = p_coeff_table.melt(img_info_cols, var_name='comparison', value_name='correlation coefficients')\n",
    "\n",
    "ax = sns.swarmplot(p_coeff_dfm, x='comparison', y='correlation coefficients', hue='UID')\n",
    "ax.tick_params(axis='x', labelrotation = 90)\n",
    "ax.legend(bbox_to_anchor=(1.02, 1), loc='upper left', borderaxespad=0)\n",
    "\n",
    "plt.savefig(corr_dirpath / f'{analysis_name}.png', bbox_inches=\"tight\")"
   ]
  },
  {
   "cell_type": "code",
   "execution_count": null,
   "id": "bd18929b-3262-4af4-bab6-1c35bf1851ed",
   "metadata": {},
   "outputs": [],
   "source": []
  }
 ],
 "metadata": {
  "kernelspec": {
   "display_name": "Python 3 (ipykernel)",
   "language": "python",
   "name": "python3"
  },
  "language_info": {
   "codemirror_mode": {
    "name": "ipython",
    "version": 3
   },
   "file_extension": ".py",
   "mimetype": "text/x-python",
   "name": "python",
   "nbconvert_exporter": "python",
   "pygments_lexer": "ipython3",
   "version": "3.10.9"
  }
 },
 "nbformat": 4,
 "nbformat_minor": 5
}

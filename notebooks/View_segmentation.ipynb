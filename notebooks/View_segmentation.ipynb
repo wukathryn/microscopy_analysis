{
 "cells": [
  {
   "cell_type": "code",
   "execution_count": null,
   "id": "2177756a-c80c-422d-8f28-8d7e418f2766",
   "metadata": {},
   "outputs": [],
   "source": [
    "from pathlib import Path\n",
    "import numpy as np\n",
    "import matplotlib.pyplot as plt\n",
    "import pandas as pd\n",
    "import tifffile as tif\n",
    "from aicsimageio import AICSImage\n",
    "from aicsimageio.readers.ome_tiff_reader import OmeTiffReader\n",
    "from aicsimageio.writers import OmeTiffWriter\n",
    "import matplotlib.image as mpimg\n",
    "\n",
    "import sys\n",
    "src_path = str(Path.cwd().parent)\n",
    "if src_path not in sys.path:\n",
    "    sys.path.append(src_path)\n",
    "\n",
    "from src.d01_init_proc import vis_and_rescale"
   ]
  },
  {
   "cell_type": "code",
   "execution_count": null,
   "id": "3dda1e53-6b96-49a4-bf87-4233e917c04b",
   "metadata": {},
   "outputs": [],
   "source": [
    "orig_fig_dirpath = Path(input())"
   ]
  },
  {
   "cell_type": "code",
   "execution_count": null,
   "id": "6bb71c2a-1c08-46c6-aa3d-414fbdd28b01",
   "metadata": {},
   "outputs": [],
   "source": [
    "seg_dirpath = Path(input())"
   ]
  },
  {
   "cell_type": "code",
   "execution_count": null,
   "id": "616c0a6c-02a6-4e8d-858b-ba0b3b7527ed",
   "metadata": {},
   "outputs": [],
   "source": [
    "# find incorrectly saved segmentations\n",
    "todelete = []\n",
    "for segpath in seg_dirpath.glob('*.tif'):\n",
    "    seg = tif.imread(segpath)\n",
    "    \n",
    "    if np.max(seg) > 3:\n",
    "        print(f'{segpath.name} not correctly segmented')\n",
    "        todelete.append(segpath)\n",
    "if len(todelete)==0:\n",
    "    print('All imgs correctly segmented')"
   ]
  },
  {
   "cell_type": "code",
   "execution_count": null,
   "id": "341b28ed-0a29-43b2-b324-292addf548a5",
   "metadata": {},
   "outputs": [],
   "source": [
    "# CAREFUL!!! Deletes incorrectly segmented images identified in previous cell\n",
    "num_deleted = 0\n",
    "for imgpath in todelete:\n",
    "    imgpath.unlink()\n",
    "    num_deleted = num_deleted + 1\n",
    "print(f'{num_deleted} files deleted')"
   ]
  },
  {
   "cell_type": "code",
   "execution_count": null,
   "id": "33490165-ac31-4e66-be07-54c3065e83a9",
   "metadata": {},
   "outputs": [],
   "source": [
    "# Move already segmented images to a new directory\n",
    "\n",
    "orig_dirpath = orig_fig_dirpath.parent\n",
    "orig_dirpath_done = orig_dirpath / 'segmented'\n",
    "orig_dirpath_done.mkdir(parents=True, exist_ok=True)\n",
    "\n",
    "orig_imgnames = [path.name.split('.')[0] for path in orig_dirpath.glob('*.ome.tif')]\n",
    "seg_imgnames = [path.name.split('.')[0] for path in seg_dirpath.glob('*.tif')]\n",
    "\n",
    "orig_imgnames_done = [name for name in orig_imgnames if (name+'_seg') in seg_imgnames]\n",
    "\n",
    "num_moved = 0\n",
    "for name in orig_imgnames_done:\n",
    "    orig_imgpath = orig_dirpath / (name + '.ome.tif')\n",
    "    if orig_imgpath.is_file():\n",
    "        orig_imgpath.rename(orig_dirpath_done / (name + '.ome.tif'))\n",
    "        num_moved = num_moved + 1\n",
    "    else:\n",
    "        print(f'{orig_imgpath.name} not found')        \n",
    "            \n",
    "print(f'{num_moved} files moved')\n",
    "    "
   ]
  },
  {
   "cell_type": "code",
   "execution_count": null,
   "id": "72a100c3-7af4-47a7-879b-48bb6b847a73",
   "metadata": {},
   "outputs": [],
   "source": []
  },
  {
   "cell_type": "code",
   "execution_count": null,
   "id": "c925e197-a2e9-4aef-9b58-cc164e871604",
   "metadata": {},
   "outputs": [],
   "source": [
    "#TODO: Separate out segmention figure generation\n",
    "# Double check that this still works for images with 1 timepoint\n",
    "# Add separate display function for both figures\n",
    "\n",
    "seg_fig_dirpath = seg_dirpath / 'figs'\n",
    "seg_fig_dirpath.mkdir(parents=True, exist_ok=True)\n",
    "\n",
    "imgpaths = [imgpath for imgpath in seg_dirpath.glob('*.tif')]\n",
    "imgpaths.sort()\n",
    "\n",
    "\n",
    "for imgpath in imgpaths:\n",
    "    img_file = AICSImage(imgpath)\n",
    "    img = img_file.data\n",
    "    size_t = img.shape[0]\n",
    "    \n",
    "    fig, axs = plt.subplots(size_t, 4, figsize=(16, 3*size_t), squeeze=False, constrained_layout=True)\n",
    "    \n",
    "    for t in range(size_t):\n",
    "        axs[t, 0].imshow(img[t, 0, 0, :, :], interpolation=None, cmap='gray')\n",
    "        axs[t, 0].axis('off')\n",
    "        axs[t, 0].set_title(f'merged, t{t}')\n",
    "\n",
    "        cell = (img > 0)\n",
    "        axs[t, 1].imshow(cell[t, 0, 0, :, :], interpolation=None, cmap='gray')\n",
    "        axs[t, 1].axis('off')\n",
    "        axs[t, 1].set_title(f'cell, t{t}')\n",
    "\n",
    "        caax_pos = (img==1)\n",
    "        axs[t, 2].imshow(caax_pos[t, 0, 0, :, :], interpolation=None, cmap='gray')\n",
    "        axs[t, 2].axis('off')\n",
    "        axs[t, 2].set_title(f'caax+, t{t}')\n",
    "\n",
    "        caax_neg = (img==2)\n",
    "        axs[t, 3].imshow(caax_neg[t, 0, 0, :, :], interpolation=None, cmap='gray')\n",
    "        axs[t, 3].axis('off')\n",
    "        axs[t, 3].set_title(f'caax-, t{t}')\n",
    "    \n",
    "    imgname = imgpath.name.split('.')[0]\n",
    "    fig.suptitle(imgname)\n",
    "    plt.show()\n",
    "    fig.savefig(seg_fig_dirpath / (imgname + '.png'))\n",
    "\n",
    "    orig_fig_path = orig_fig_dirpath / (imgpath.name.split('_seg')[0] + '.png')\n",
    "    if orig_fig_path.is_file():\n",
    "        orig_fig = mpimg.imread(orig_fig_path)\n",
    "        vis_and_rescale.display_fig(orig_fig)\n",
    "    else:\n",
    "        print(f'{orig_fig_path.name} not found')\n",
    "print('Done!')\n",
    "        "
   ]
  },
  {
   "cell_type": "code",
   "execution_count": null,
   "id": "06a8777e-dd5d-4ff6-8872-25bd18febfc8",
   "metadata": {},
   "outputs": [],
   "source": []
  }
 ],
 "metadata": {
  "kernelspec": {
   "display_name": "Python 3 (ipykernel)",
   "language": "python",
   "name": "python3"
  },
  "language_info": {
   "codemirror_mode": {
    "name": "ipython",
    "version": 3
   },
   "file_extension": ".py",
   "mimetype": "text/x-python",
   "name": "python",
   "nbconvert_exporter": "python",
   "pygments_lexer": "ipython3",
   "version": "3.10.9"
  }
 },
 "nbformat": 4,
 "nbformat_minor": 5
}

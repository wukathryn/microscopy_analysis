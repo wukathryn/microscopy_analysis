{
 "cells": [
  {
   "cell_type": "code",
   "execution_count": null,
   "id": "22744f5c-917a-4102-822d-47943da2746c",
   "metadata": {},
   "outputs": [],
   "source": [
    "import pandas as pd\n",
    "from pathlib import Path\n",
    "import sys\n",
    "src_path = str(Path.cwd().parent.parent)\n",
    "if src_path not in sys.path:\n",
    "    sys.path.append(src_path)\n",
    "import src.d00_utils.utilities as utils"
   ]
  },
  {
   "cell_type": "code",
   "execution_count": null,
   "id": "0084ff63-280e-4a2c-af33-8e5ca91ee0e1",
   "metadata": {},
   "outputs": [],
   "source": [
    "input_dirpath = Path(input())"
   ]
  },
  {
   "cell_type": "code",
   "execution_count": null,
   "id": "01c811e6-1790-4d20-a2fe-05e085852fd1",
   "metadata": {},
   "outputs": [],
   "source": [
    "conditions_csvpath = Path(input())"
   ]
  },
  {
   "cell_type": "code",
   "execution_count": null,
   "id": "a782679b-63b5-4b7b-8a5e-53abadf0825b",
   "metadata": {},
   "outputs": [],
   "source": [
    "conditions_df = pd.read_csv(conditions_csvpath)\n",
    "conditions_df.head()"
   ]
  },
  {
   "cell_type": "code",
   "execution_count": null,
   "id": "77beb467-734a-4fe6-8771-bc2c2137bbda",
   "metadata": {},
   "outputs": [],
   "source": [
    "for i, row in conditions_df.iterrows():\n",
    "    \n",
    "    imgnames = []\n",
    "    w = row['wellID']\n",
    "    w_search = '*' + w.replace('-', '*') + '*.ome.tif'\n",
    "    imgnames.extend([path.name for path in input_dirpath.glob(w_search)])\n",
    "    imgnames.sort() \n",
    "    \n",
    "    caaxch = row['CAAX ch']\n",
    "    cellch = row['cellch']\n",
    "    \n",
    "    num_imgs = len(imgnames)\n",
    "    print(f'{num_imgs} images found in well {w}') \n",
    "    \n",
    "    for j, imgname in enumerate(imgnames):\n",
    "        print(f'Processing {imgname}, idx {j}/{num_imgs-1}')\n",
    "        \n",
    "        caaxch_output_dir = input_dirpath.parent/(f'{input_dirpath.name}_chsubset{caaxch}_caaxch')\n",
    "        if (caaxch_output_dir / imgname).is_file():\n",
    "            print('CAAX ch already processed; skipping file')\n",
    "        else:\n",
    "            utils.create_ch_subset([caaxch], input_dirpath / imgname, output_dir=caaxch_output_dir)\n",
    "        \n",
    "        cellch_output_dir = input_dirpath.parent/(f'{input_dirpath.name}_chsubset{cellch}_cellch')\n",
    "        if (cellch_output_dir / imgname).is_file():\n",
    "            print('cell ch already processed; skipping file')\n",
    "        else:\n",
    "            utils.create_ch_subset([cellch], input_dirpath / imgname, output_dir=cellch_output_dir)\n",
    "        \n",
    "print('Done!')"
   ]
  },
  {
   "cell_type": "code",
   "execution_count": null,
   "id": "885b1aac-2f5e-4a28-9b4e-d043c1ca3161",
   "metadata": {},
   "outputs": [],
   "source": []
  }
 ],
 "metadata": {
  "kernelspec": {
   "display_name": "Python 3 (ipykernel)",
   "language": "python",
   "name": "python3"
  },
  "language_info": {
   "codemirror_mode": {
    "name": "ipython",
    "version": 3
   },
   "file_extension": ".py",
   "mimetype": "text/x-python",
   "name": "python",
   "nbconvert_exporter": "python",
   "pygments_lexer": "ipython3",
   "version": "3.10.9"
  }
 },
 "nbformat": 4,
 "nbformat_minor": 5
}

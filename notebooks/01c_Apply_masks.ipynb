{
 "cells": [
  {
   "cell_type": "code",
   "execution_count": null,
   "id": "8e105b6c-8c00-4925-bf2c-38a3c324e5af",
   "metadata": {},
   "outputs": [],
   "source": [
    "from pathlib import Path\n",
    "import sys\n",
    "src_path = str(Path.cwd().parent)\n",
    "if src_path not in sys.path:\n",
    "    sys.path.append(src_path)\n",
    "from src.d01_init_proc.applymask import apply_mask_files, subtract_nuclei_from_cellmasks\n",
    "import src.d00_utils.dirnames as dn\n"
   ]
  },
  {
   "cell_type": "code",
   "execution_count": null,
   "id": "36de9587-72c8-499d-b8e7-0e5b789761f0",
   "metadata": {},
   "outputs": [],
   "source": [
    "input_dirpath = Path(input('Please enter the path for the folder containing images'))"
   ]
  },
  {
   "cell_type": "code",
   "execution_count": null,
   "id": "4ddd1d51-19eb-45ac-bb92-7dbadd3bfb83",
   "metadata": {},
   "outputs": [],
   "source": [
    "dirs = [exp_dir for exp_dir in input_dirpath.iterdir() if exp_dir.is_dir()]"
   ]
  },
  {
   "cell_type": "code",
   "execution_count": null,
   "id": "879da8d5-1f24-4c0d-ab60-b7ef578049e3",
   "metadata": {},
   "outputs": [],
   "source": [
    "masksname = 'cellmasks'\n",
    "for exp_dir in dirs:\n",
    "    imgs_to_mask_dir = exp_dir / 'img_processing' / 'raw_ometifs_subset'\n",
    "    print(imgs_to_mask_dir.is_dir())\n",
    "    apply_mask_files(imgs_to_mask_dir, masksname, add_cellmask=False, cell_ch=2)"
   ]
  },
  {
   "cell_type": "code",
   "execution_count": null,
   "id": "f79d9c59-a596-47a5-8483-64d67b243037",
   "metadata": {},
   "outputs": [],
   "source": [
    "#apply_mask_files(input_dirpath, dn.cellmask_nonuc_dirname, add_cellmask=False)"
   ]
  },
  {
   "cell_type": "code",
   "execution_count": null,
   "id": "8d61e6a9-ad51-4199-9216-45a30fcdc015",
   "metadata": {},
   "outputs": [],
   "source": []
  }
 ],
 "metadata": {
  "kernelspec": {
   "display_name": "Python 3 (ipykernel)",
   "language": "python",
   "name": "python3"
  },
  "language_info": {
   "codemirror_mode": {
    "name": "ipython",
    "version": 3
   },
   "file_extension": ".py",
   "mimetype": "text/x-python",
   "name": "python",
   "nbconvert_exporter": "python",
   "pygments_lexer": "ipython3",
   "version": "3.10.9"
  }
 },
 "nbformat": 4,
 "nbformat_minor": 5
}

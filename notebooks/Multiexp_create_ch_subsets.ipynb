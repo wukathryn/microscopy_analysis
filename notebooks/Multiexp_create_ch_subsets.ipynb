{
 "cells": [
  {
   "cell_type": "code",
   "execution_count": null,
   "id": "c40c63f4-1aa2-48bb-b896-858395dcb5b6",
   "metadata": {},
   "outputs": [],
   "source": [
    "import numpy as np\n",
    "from pathlib import Path\n",
    "from aicsimageio import AICSImage\n",
    "from aicsimageio.readers.ome_tiff_reader import OmeTiffReader\n",
    "from aicsimageio.writers import OmeTiffWriter\n",
    "\n",
    "import sys\n",
    "src_path = str(Path.cwd().parent)\n",
    "if src_path not in sys.path:\n",
    "    sys.path.append(src_path)\n",
    "from src.d00_utils.utilities import construct_ome_metadata"
   ]
  },
  {
   "cell_type": "code",
   "execution_count": null,
   "id": "2010c6d0-0d9d-42f2-b304-96b267f027f4",
   "metadata": {},
   "outputs": [],
   "source": [
    "multiexp_dirpath = Path(input())"
   ]
  },
  {
   "cell_type": "code",
   "execution_count": null,
   "id": "ada3294a-34a6-44c7-8e91-86badfe92d39",
   "metadata": {},
   "outputs": [],
   "source": [
    "ch_subset = [0, 1, 2, 5]"
   ]
  },
  {
   "cell_type": "code",
   "execution_count": null,
   "id": "bd4ab405-dc39-487c-a92b-266b7a17a81c",
   "metadata": {},
   "outputs": [],
   "source": [
    "def create_subsets(exp_dirpath, ch_subset):\n",
    "    exp_dirpath = Path(exp_dirpath)\n",
    "    imgpaths = [path for path in exp_dirpath.glob('*.ome.tif')]\n",
    "    imgsubset_dirpath = exp_dirpath.parent / 'raw_ometifs_subset'\n",
    "    imgsubset_dirpath.mkdir(parents=True, exist_ok=True)\n",
    "\n",
    "    for imgpath in imgpaths:\n",
    "        img_file = AICSImage(imgpath, reader=OmeTiffReader)\n",
    "        img = img_file.data\n",
    "        for ch in ch_subset:\n",
    "            img_chs = [img[:, ch, np.newaxis, :, :, :] for ch in ch_subset]\n",
    "            imgsubset = np.concatenate(img_chs, axis=1)\n",
    "\n",
    "        ome_metadata = construct_ome_metadata(imgsubset, img_file.physical_pixel_sizes, channel_names=None)\n",
    "        OmeTiffWriter.save(imgsubset, imgsubset_dirpath / imgpath.name,\n",
    "                                   ome_xml=ome_metadata)\n",
    "    print('Done!')"
   ]
  },
  {
   "cell_type": "code",
   "execution_count": null,
   "id": "45ad7ed4-6dca-43d7-9567-f31ac83454cb",
   "metadata": {},
   "outputs": [],
   "source": [
    "exp_dirpaths = [(dirpath / 'raw_ometifs') for dirpath in multiexp_dirpath.iterdir() if dirpath.is_dir()]\n",
    "num_dirpaths = len(exp_dirpaths)\n",
    "for i, exp_dirpath in enumerate(exp_dirpaths):\n",
    "    print(f'Creating subsets for file {i+1}/{num_dirpaths}')\n",
    "    create_subsets(exp_dirpath, ch_subset)\n",
    "print('Finished with all files')\n",
    "    "
   ]
  },
  {
   "cell_type": "code",
   "execution_count": null,
   "id": "48d20469-409f-4bd5-ae53-e06b3a0e64cc",
   "metadata": {},
   "outputs": [],
   "source": []
  }
 ],
 "metadata": {
  "kernelspec": {
   "display_name": "Python 3 (ipykernel)",
   "language": "python",
   "name": "python3"
  },
  "language_info": {
   "codemirror_mode": {
    "name": "ipython",
    "version": 3
   },
   "file_extension": ".py",
   "mimetype": "text/x-python",
   "name": "python",
   "nbconvert_exporter": "python",
   "pygments_lexer": "ipython3",
   "version": "3.10.9"
  }
 },
 "nbformat": 4,
 "nbformat_minor": 5
}

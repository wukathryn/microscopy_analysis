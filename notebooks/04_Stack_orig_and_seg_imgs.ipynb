{
 "cells": [
  {
   "cell_type": "code",
   "execution_count": null,
   "id": "687c37ea-f6b6-409b-b885-1b6b4c5e6ed1",
   "metadata": {},
   "outputs": [],
   "source": [
    "from pathlib import Path\n",
    "import numpy as np\n",
    "\n",
    "from aicsimageio import AICSImage\n",
    "from aicsimageio.readers.ome_tiff_reader import OmeTiffReader\n",
    "from aicsimageio.writers import OmeTiffWriter\n",
    "import tifffile as tif\n",
    "\n",
    "import sys\n",
    "src_path = str(Path.cwd().parent)\n",
    "if src_path not in sys.path:\n",
    "    sys.path.append(src_path)\n",
    "\n",
    "import src.d00_utils.utilities as utils"
   ]
  },
  {
   "cell_type": "code",
   "execution_count": null,
   "id": "40f4d230-c6b9-4d5b-a811-21b5c97771a6",
   "metadata": {},
   "outputs": [],
   "source": [
    "orig_dir = Path(input())"
   ]
  },
  {
   "cell_type": "code",
   "execution_count": null,
   "id": "38c44fd7-6274-4b6d-a0c2-10c549a1a586",
   "metadata": {},
   "outputs": [],
   "source": [
    "seg_dir = Path(input())"
   ]
  },
  {
   "cell_type": "code",
   "execution_count": null,
   "id": "c9b2eb8e-5574-4326-8741-be2493d93092",
   "metadata": {},
   "outputs": [],
   "source": [
    "save_dirname = Path(input(\"Enter name of stacked directory:\"))\n",
    "save_dirpath = Path(orig_dir).parent / save_dirname\n",
    "print(f'Full directory path: {save_dirpath}')"
   ]
  },
  {
   "cell_type": "code",
   "execution_count": null,
   "id": "14659508-b232-4c55-abe8-92aed2a6150e",
   "metadata": {},
   "outputs": [],
   "source": [
    "save_dirpath.mkdir(parents=True, exist_ok=True)\n",
    "seg_names = [path.name for path in seg_dir.glob('*.tif')]\n",
    "\n",
    "for name in seg_names:\n",
    "    orig_name = name.split('_seg')[0] + '.ome.tif'\n",
    "    orig_path = orig_dir / orig_name\n",
    "    if orig_path.is_file():\n",
    "    \n",
    "        img_file = AICSImage(orig_path, reader=OmeTiffReader)\n",
    "        img = img_file.data  \n",
    "        \n",
    "        seg = tif.imread(seg_dir / name)\n",
    "        caax_pos = (seg==1)\n",
    "        caax_neg = (seg==2)\n",
    "        cell = (seg > 0)\n",
    "        \n",
    "        stacked_img = np.concatenate([img, np.expand_dims(caax_pos, (0, 1, 2)), np.expand_dims(cell, (0, 1, 2)), \n",
    "                                      np.expand_dims(caax_neg, (0, 1, 2))], axis=1)\n",
    "    \n",
    "        ome_metadata = utils.construct_ome_metadata(stacked_img, physical_pixel_sizes=img_file.physical_pixel_sizes)\n",
    "        OmeTiffWriter.save(stacked_img, (save_dirpath / orig_name), ome_xml=ome_metadata)"
   ]
  },
  {
   "cell_type": "code",
   "execution_count": null,
   "id": "be1a8c49-4efa-49a9-afa6-64ff0408a038",
   "metadata": {},
   "outputs": [],
   "source": []
  }
 ],
 "metadata": {
  "kernelspec": {
   "display_name": "Python 3 (ipykernel)",
   "language": "python",
   "name": "python3"
  },
  "language_info": {
   "codemirror_mode": {
    "name": "ipython",
    "version": 3
   },
   "file_extension": ".py",
   "mimetype": "text/x-python",
   "name": "python",
   "nbconvert_exporter": "python",
   "pygments_lexer": "ipython3",
   "version": "3.10.9"
  }
 },
 "nbformat": 4,
 "nbformat_minor": 5
}

{
 "cells": [
  {
   "cell_type": "code",
   "execution_count": null,
   "id": "2cd32107-4c48-48e2-bf22-a3af0d3f0663",
   "metadata": {},
   "outputs": [],
   "source": [
    "from pathlib import Path\n",
    "from aicsimageio import AICSImage\n",
    "import xml.etree.ElementTree as ET\n",
    "import xmltodict\n",
    "import pandas as pd"
   ]
  },
  {
   "cell_type": "code",
   "execution_count": null,
   "id": "ac0898ce-9741-40bf-8f04-4bc9e0c9c7d2",
   "metadata": {},
   "outputs": [],
   "source": [
    "input_dirpath = input('Please enter the path for the folder containing images')"
   ]
  },
  {
   "cell_type": "code",
   "execution_count": null,
   "id": "1e6b3b56-8fa8-4af3-ba67-f0407d1b6473",
   "metadata": {},
   "outputs": [],
   "source": [
    "df = pd.DataFrame()\n",
    "\n",
    "input_dirpath = Path(input_dirpath)\n",
    "imgpaths = [path for path in input_dirpath.glob('*.czi')]\n",
    "\n",
    "for i, imgpath in enumerate(imgpaths):\n",
    "    print(f'Checking img ({i+1}/{len(imgpaths)})')\n",
    "    \n",
    "    ch_info_d = {}\n",
    "    ch_info_d['imgname'] = Path(imgpath).name\n",
    "    \n",
    "    # get CZI metadata\n",
    "    img = AICSImage(imgpath)\n",
    "    metadata = img.metadata\n",
    "    xmlstr = ET.tostring(metadata)\n",
    "    metadatadict_czi = xmltodict.parse(xmlstr)\n",
    "    \n",
    "    channels_info = metadatadict_czi['ImageDocument']['Metadata']['Information']['Image']['Dimensions']['Channels']['Channel']\n",
    "    for ch in range(len(channels_info)):\n",
    "        ch_info_d[f'Ch {ch} name'] = [channels_info[ch]['@Name']]\n",
    "        ch_info_d[f'Ch {ch} intensity'] = [channels_info[ch]['LightSourcesSettings']['LightSourceSettings']['Intensity']]\n",
    "        ch_info_d[f'Ch{ch} exp (ms)'] = [int(channels_info[ch]['ExposureTime'])/1000000]\n",
    "    \n",
    "    df = pd.concat([df, pd.DataFrame(ch_info_d)], ignore_index=True)\n",
    "\n",
    "df_savepath = input_dirpath/'imaging_settings_bych.csv'\n",
    "df.to_csv(df_savepath)\n",
    "print(f'Imaging settings saved to {df_savepath}')"
   ]
  },
  {
   "cell_type": "code",
   "execution_count": null,
   "id": "4f2a1708-4d4e-4b07-9ea0-1dbcd15b94d8",
   "metadata": {},
   "outputs": [],
   "source": []
  }
 ],
 "metadata": {
  "kernelspec": {
   "display_name": "Python 3 (ipykernel)",
   "language": "python",
   "name": "python3"
  },
  "language_info": {
   "codemirror_mode": {
    "name": "ipython",
    "version": 3
   },
   "file_extension": ".py",
   "mimetype": "text/x-python",
   "name": "python",
   "nbconvert_exporter": "python",
   "pygments_lexer": "ipython3",
   "version": "3.10.9"
  }
 },
 "nbformat": 4,
 "nbformat_minor": 5
}

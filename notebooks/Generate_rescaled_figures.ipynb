{
 "cells": [
  {
   "cell_type": "code",
   "execution_count": null,
   "id": "a292795f",
   "metadata": {},
   "outputs": [],
   "source": [
    "from pathlib import Path\n",
    "import numpy as np\n",
    "import matplotlib.pyplot as plt\n",
    "import pandas as pd\n",
    "from aicsimageio import AICSImage\n",
    "from aicsimageio.readers.ome_tiff_reader import OmeTiffReader\n",
    "from aicsimageio.writers import OmeTiffWriter\n",
    "\n",
    "import sys\n",
    "src_path = str(Path.cwd().parent)\n",
    "if src_path not in sys.path:\n",
    "    sys.path.append(src_path)\n",
    "\n",
    "from src.d01_init_proc import vis_and_rescale"
   ]
  },
  {
   "cell_type": "code",
   "execution_count": null,
   "id": "6d0db18b-a434-48ef-bdca-ed1702e45064",
   "metadata": {},
   "outputs": [],
   "source": [
    "input_dir = Path(input(\"Please enter the directory containing images to visualize:\"))"
   ]
  },
  {
   "cell_type": "code",
   "execution_count": null,
   "id": "dd2a715d-01ad-4393-9d50-fa103d80817e",
   "metadata": {},
   "outputs": [],
   "source": [
    "assert input_dir.is_dir(), \"Not a valid directory, please try again\"\n",
    "imgpaths = [imgpath for imgpath in input_dir.glob('*.ome.tif')]\n",
    "assert len(imgpaths) > 0, \"No images found in directory\"\n",
    "imgpaths.sort()\n",
    "\n",
    "\n",
    "# Make directory for visualization figures\n",
    "vis_dirpath = input_dir / f'{input_dir.name}_figs'\n",
    "vis_dirpath.mkdir(parents=True, exist_ok=True)\n",
    "\n",
    "for i, imgpath in enumerate(imgpaths):\n",
    "    orig_img = AICSImage(imgpath, reader=OmeTiffReader).data\n",
    "    imgname = imgpath.name.split('.')[0]\n",
    "    fig = vis_and_rescale.generate_vis_fig(orig_img, target_perc_grayval = np.array([25, 25, 50, 70]), imgname=imgpath.name, index=i)\n",
    "    fig.savefig(vis_dirpath / (imgname + '.png'))"
   ]
  },
  {
   "cell_type": "code",
   "execution_count": null,
   "id": "343976be-b4eb-41b9-8eb4-73f943fbb836",
   "metadata": {},
   "outputs": [],
   "source": []
  }
 ],
 "metadata": {
  "kernelspec": {
   "display_name": "Python 3 (ipykernel)",
   "language": "python",
   "name": "python3"
  },
  "language_info": {
   "codemirror_mode": {
    "name": "ipython",
    "version": 3
   },
   "file_extension": ".py",
   "mimetype": "text/x-python",
   "name": "python",
   "nbconvert_exporter": "python",
   "pygments_lexer": "ipython3",
   "version": "3.10.9"
  }
 },
 "nbformat": 4,
 "nbformat_minor": 5
}

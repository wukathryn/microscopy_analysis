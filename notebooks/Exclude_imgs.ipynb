{
 "cells": [
  {
   "cell_type": "code",
   "execution_count": null,
   "id": "68d0e112-ec8d-44d3-8fad-ec41e51fa56c",
   "metadata": {},
   "outputs": [],
   "source": [
    "from pathlib import Path\n",
    "import pandas as pd\n",
    "import sys\n",
    "src_path = str(Path.cwd().parent)\n",
    "if src_path not in sys.path:\n",
    "    sys.path.append(src_path)\n",
    "\n",
    "from src.d00_utils.utilities import generate_df_with_imgpaths\n",
    "from src.d00_utils.dirnames import raw_ometif_dirname, init_rescale_dirname, bg_sub_dirname, user_input_dirname, polygon_ROI_dirname, excluded_dirname"
   ]
  },
  {
   "cell_type": "code",
   "execution_count": null,
   "id": "ca0c3c0c-88ad-430d-98e2-22784270996e",
   "metadata": {},
   "outputs": [],
   "source": [
    "input_dirpath = input('Please enter the path for the folder containing images')"
   ]
  },
  {
   "cell_type": "code",
   "execution_count": null,
   "id": "6b652338-44fd-4078-9f91-44ced664c311",
   "metadata": {},
   "outputs": [],
   "source": [
    "def new_or_overwrite_ok(filepath):\n",
    "    if filepath.exists():\n",
    "        overwrite_yn = input(f'\\'{filepath}\\' already exists. Overwrite? Enter Y/N\\n')\n",
    "        if overwrite_yn.lower() == 'n':\n",
    "            return False\n",
    "    return True\n",
    "    "
   ]
  },
  {
   "cell_type": "code",
   "execution_count": null,
   "id": "e206ba32-4e74-4355-ada0-249f253a8a2c",
   "metadata": {},
   "outputs": [],
   "source": [
    "def create_exclusion_df(proc_dir):\n",
    "    proc_dir = Path(proc_dir)\n",
    "    raw_ometif_dirpath = Path(proc_dir) / raw_ometif_dirname\n",
    "    exclusion_df = generate_df_with_imgpaths(raw_ometif_dirpath)\n",
    "    exclusion_df['Exclude (Y/N)'] = ''\n",
    "    exclusion_df['Reason for exclusion'] = ''\n",
    "    save_dirpath = proc_dir / user_input_dirname\n",
    "    save_dirpath.mkdir(parents=True, exist_ok=True)\n",
    "    \n",
    "    exclusion_list_path = save_dirpath / 'exclusion_list.csv'\n",
    "    if new_or_overwrite_ok(exclusion_list_path):\n",
    "        exclusion_df.to_csv(save_dirpath / 'exclusion_list.csv', index=True, index_label='Index')\n",
    "        print(f'Exclusion list saved to \\'{filepath}\\'')\n",
    "    else:\n",
    "        print('Exclusion list not saved to avoid overwriting existing file.')"
   ]
  },
  {
   "cell_type": "code",
   "execution_count": null,
   "id": "2856279e-57b6-41ee-aa32-ad1ccff1fb2f",
   "metadata": {},
   "outputs": [],
   "source": [
    "proc_dir = Path(proc_dir)\n",
    "create_exclusion_df(proc_dir)"
   ]
  },
  {
   "cell_type": "code",
   "execution_count": null,
   "id": "6a53257d-b9b2-4296-b97c-097cef0266d8",
   "metadata": {},
   "outputs": [],
   "source": [
    "def exclude_images(proc_dir, dirnames='all'):\n",
    "    \n",
    "    # Get a list of all directory names in the processing folder'\n",
    "    if dirnames=='all':\n",
    "        dirnames = [dirname.name for dirname in proc_dir.iterdir() if (dirname.is_dir and not dirname.name.startswith('.'))]\n",
    "        print(dirnames)\n",
    "    \n",
    "    # Find and open the exclusion list csv file\n",
    "    exclusion_list_path = proc_dir / user_input_dirname / 'exclusion_list.csv'\n",
    "    exclusion_df = pd.read_csv(exclusion_list_path)\n",
    "    \n",
    "    # Get a list of all filenames 'Y' in the 'Exclude' column\n",
    "    imgnames_exclude = exclusion_df[exclusion_df['Exclude (Y/N)'].str.contains('Y')]['Image name'].values\n",
    "    \n",
    "    for dirname in dirnames:\n",
    "        \n",
    "        # Create a new directory for excluded images\n",
    "        exclude_dirpath = proc_dir / dirname / excluded_dirname\n",
    "        exclude_dirpath.mkdir(parents=True, exist_ok=True)\n",
    "        \n",
    "        # Move images into the directory for excluded images\n",
    "        ne = 0 # counter for excluded images\n",
    "        for imgname in imgnames_exclude:\n",
    "            imgpath = proc_dir / dirname / imgname\n",
    "            exclude_dirpath = proc_dir / dirname / excluded_dirname\n",
    "            if imgpath.exists():\n",
    "                imgpath.rename(exclude_dirpath / imgpath.name)\n",
    "                ne = ne + 1\n",
    "        print(f'{ne} images excluded within the {dirname} directory')\n",
    "                "
   ]
  },
  {
   "cell_type": "code",
   "execution_count": null,
   "id": "679d7fc5-a7fd-45e6-b452-199997760d76",
   "metadata": {},
   "outputs": [],
   "source": [
    "proc_dir = Path(proc_dir)\n",
    "exclude_images(proc_dir, dirnames='all')\n",
    "\n"
   ]
  },
  {
   "cell_type": "code",
   "execution_count": null,
   "id": "9fe2aece-4316-4e9c-9a70-5442cbc41291",
   "metadata": {},
   "outputs": [],
   "source": [
    "dirnames"
   ]
  }
 ],
 "metadata": {
  "kernelspec": {
   "display_name": "Python 3 (ipykernel)",
   "language": "python",
   "name": "python3"
  },
  "language_info": {
   "codemirror_mode": {
    "name": "ipython",
    "version": 3
   },
   "file_extension": ".py",
   "mimetype": "text/x-python",
   "name": "python",
   "nbconvert_exporter": "python",
   "pygments_lexer": "ipython3",
   "version": "3.10.9"
  }
 },
 "nbformat": 4,
 "nbformat_minor": 5
}

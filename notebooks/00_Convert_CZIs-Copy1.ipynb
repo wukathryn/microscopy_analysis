{
 "cells": [
  {
   "cell_type": "markdown",
   "id": "b125c2a3-eb1c-4367-9d9a-4b15850c9548",
   "metadata": {},
   "source": [
    "# **Convert CZI images into ome-tiff files**"
   ]
  },
  {
   "cell_type": "code",
   "execution_count": null,
   "id": "22dc9376-a620-43fd-80a1-1b8e4290a75a",
   "metadata": {},
   "outputs": [],
   "source": [
    "# Import packages\n",
    "\n",
    "import sys\n",
    "import numpy as np\n",
    "from pathlib import Path\n",
    "\n",
    "src_path = Path.cwd().parent\n",
    "if src_path not in sys.path:\n",
    "    sys.path.append(src_path)\n",
    "    \n",
    "from src.d01_init_proc import openczi, subtractbg, vis_and_rescale\n",
    "\n",
    "%matplotlib notebook\n",
    "%matplotlib inline"
   ]
  },
  {
   "cell_type": "markdown",
   "id": "04ba3aa5-0d02-49e5-84d0-65733656760f",
   "metadata": {},
   "source": [
    "## Import images\n",
    "\n",
    "##### **Add path for a folder of CZI images to be analyzed.**\n",
    "##### Example: exp_dir = \"/Users/kwu2/Documents/Experiments/mRcaax594_MBP647\""
   ]
  },
  {
   "cell_type": "code",
   "execution_count": null,
   "id": "58a6db19-7632-4f4e-80bf-96f396a6d8e6",
   "metadata": {},
   "outputs": [],
   "source": [
    "img_dir = input('Please enter the path for the folder containing images:')"
   ]
  },
  {
   "cell_type": "markdown",
   "id": "a6e88d7d-cd8c-4d20-8f71-66b144e5b0b7",
   "metadata": {},
   "source": [
    "### Step 1. Convert CZI images into ome-tiff images.\n",
    "\n",
    "##### Notes:\n",
    "#####  - Multi-scene CZI images (multiple field locations are split and saved in separate files.\n",
    "#####  - Important metadata from CZI images are imported into the OME-TIFF files\n",
    "#####  - These OME-TIFF files will have a standard TCZXY format. Some of these axes may have a length of 1 (e.g. if only 1 z-axis image was captured)"
   ]
  },
  {
   "cell_type": "code",
   "execution_count": null,
   "id": "0509a067-ca53-4182-8cf6-51afd15b1bbf",
   "metadata": {},
   "outputs": [],
   "source": [
    "openczi.batch_convert_czi_to_tif(img_dir)"
   ]
  },
  {
   "cell_type": "code",
   "execution_count": null,
   "id": "2c5b928a-ba22-41c6-9b26-107e4e1d8753",
   "metadata": {},
   "outputs": [],
   "source": []
  }
 ],
 "metadata": {
  "kernelspec": {
   "display_name": "Python 3 (ipykernel)",
   "language": "python",
   "name": "python3"
  },
  "language_info": {
   "codemirror_mode": {
    "name": "ipython",
    "version": 3
   },
   "file_extension": ".py",
   "mimetype": "text/x-python",
   "name": "python",
   "nbconvert_exporter": "python",
   "pygments_lexer": "ipython3",
   "version": "3.10.9"
  }
 },
 "nbformat": 4,
 "nbformat_minor": 5
}

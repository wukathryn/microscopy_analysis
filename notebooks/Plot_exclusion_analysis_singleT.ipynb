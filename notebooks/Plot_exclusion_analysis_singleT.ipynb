{
 "cells": [
  {
   "cell_type": "code",
   "execution_count": null,
   "id": "4131e59a-65d7-4900-b8ad-4bff24793423",
   "metadata": {},
   "outputs": [],
   "source": [
    "# Import packages\n",
    "import sys\n",
    "import numpy as np\n",
    "from pathlib import Path\n",
    "import pandas as pd\n",
    "import matplotlib.pyplot as plt\n",
    "import seaborn as sns\n",
    "\n",
    "src_path = str(Path.cwd().parent)\n",
    "if src_path not in sys.path:\n",
    "    sys.path.append(src_path)\n",
    "    \n",
    "from src.d03_exclusion_analysis import plot_from_dataframe\n",
    "\n",
    "%matplotlib notebook\n",
    "%matplotlib inline"
   ]
  },
  {
   "cell_type": "code",
   "execution_count": null,
   "id": "07e59bed-70fa-422b-99fe-d814cf5cd5ab",
   "metadata": {},
   "outputs": [],
   "source": [
    "dataframe_path = input('Please enter the full path for the dataframe:\\n')\n",
    "#dataframe_path = '/Users/kwu2/Library/CloudStorage/GoogleDrive-kwu2@stanford.edu/My Drive/Lab/CryoEM_live_imaging/Experiments/CE020_SINbootcamp/Bootcamp day 2/zeiss_proc/img_processing/masked_imgs/exclusion_analysis/region_areas_df.csv'\n",
    "#dataframe_path = '/Users/kwu2/Library/CloudStorage/GoogleDrive-kwu2@stanford.edu/My Drive/Lab/CryoEM_live_imaging/Experiments/CE020_SINbootcamp/Bootcamp day 3/zeiss_proc/img_processing/masked_imgs/exclusion_analysis/region_areas_df.csv'\n",
    "dataframe_path = Path(dataframe_path)"
   ]
  },
  {
   "cell_type": "code",
   "execution_count": null,
   "id": "c4557742-b23e-4a95-afbb-b2b56637b59a",
   "metadata": {},
   "outputs": [],
   "source": [
    "df = pd.read_csv(dataframe_path)"
   ]
  },
  {
   "cell_type": "code",
   "execution_count": null,
   "id": "b03063a1-6847-47e7-9cd5-0cfbd99ac5dc",
   "metadata": {},
   "outputs": [],
   "source": [
    "graphs_dir = Path(graphs_dir)"
   ]
  },
  {
   "cell_type": "code",
   "execution_count": null,
   "id": "1bcce19a-6a09-4f8c-9f3a-945376bd2bcc",
   "metadata": {},
   "outputs": [],
   "source": [
    "df"
   ]
  },
  {
   "cell_type": "code",
   "execution_count": null,
   "id": "46d5ccd2-6746-4a52-83d5-9a97d348a4f4",
   "metadata": {},
   "outputs": [],
   "source": [
    "# Compute additional metrics\n",
    "df['% exclusion'] = df['CAAX-excluded area']/df['cell area'] * 100\n",
    "#df['Well'] = df['Tx']\n",
    "wells = [df['Tx']=='I5-A1', df['Tx']=='I5-A2', df['Tx']=='I5-A3', df['Tx']=='I5-B1', df['Tx']=='I5-B3', df['Tx']=='I6-A2']\n",
    "conditions = ['StablActs (351)', 'Control (281)', 'Control (281)', 'DeActs (283)', 'DeActs (283)', 'StablActs (351)']\n",
    "#replicate = []\n",
    "df['Condition'] = np.select(wells, conditions)\n",
    "df.head()\n"
   ]
  },
  {
   "cell_type": "code",
   "execution_count": null,
   "id": "a937e2e9-10d4-48a5-9f6c-1282a1cadc3a",
   "metadata": {},
   "outputs": [],
   "source": [
    "# save data with the additional info\n",
    "new_dataframe_path = dataframe_path.parent / 'exclusion_analysis.csv'\n",
    "df.to_csv(new_dataframe_path, index=False)"
   ]
  },
  {
   "cell_type": "code",
   "execution_count": null,
   "id": "57b0ab0d-422e-42d4-affb-390714735477",
   "metadata": {},
   "outputs": [],
   "source": [
    "# Plot graphs\n",
    "x_label = 'Condition'\n",
    "#x_label = 'Tx'\n",
    "#hue = 'Well'\n",
    "#x_order = ['Control (281)', 'DeActs (283)', 'StablActs (351)']\n",
    "y_labels = ['cell area', '% exclusion']\n",
    "#sns.swarmplot(df, x=x_label, y='cell area', order=x_order, legend=False, color='gray')\n",
    "sns.swarmplot(df, x=x_label, y='cell area', legend=False, color='gray')\n",
    "plt.savefig(graphs_dir / 'cell_area.png')\n",
    "plt.show()\n",
    "\n",
    "#sns.swarmplot(df, x=x_label, y='% exclusion', order=x_order, legend=False, color='gray')\n",
    "sns.swarmplot(df, x=x_label, y='% exclusion', legend=False, color='gray')\n",
    "plt.savefig(graphs_dir / 'perc_exclusion.png')\n",
    "plt.show()\n"
   ]
  },
  {
   "cell_type": "code",
   "execution_count": null,
   "id": "1fcddc7a-7e73-43c4-9e73-1eb9b2458366",
   "metadata": {},
   "outputs": [],
   "source": [
    "# Plot graphs\n",
    "\n",
    "x_label = 'Tx'\n",
    "#hue = 'Well'\n",
    "#x_order = ['Control (281)', 'DeActs (283)', 'StablActs (351)']\n",
    "y_labels = ['cell area', '% exclusion']\n",
    "#sns.swarmplot(df, x=x_label, y='cell area', order=x_order, legend=False, color='gray')\n",
    "sns.swarmplot(df, x=x_label, y='cell area', legend=False, color='gray')\n",
    "plt.savefig(graphs_dir / 'cell_area.png')\n",
    "plt.show()\n",
    "\n",
    "#sns.swarmplot(df, x=x_label, y='% exclusion', order=x_order, legend=False, color='gray')\n",
    "sns.swarmplot(df, x=x_label, y='% exclusion', legend=False, color='gray')\n",
    "plt.savefig(graphs_dir / 'perc_exclusion.png')\n",
    "plt.show()\n"
   ]
  },
  {
   "cell_type": "code",
   "execution_count": null,
   "id": "455f17fe-82f8-4eee-8581-bf3f5f467863",
   "metadata": {},
   "outputs": [],
   "source": [
    "from scipy import stats\n",
    "\n",
    "conditions = ['Control (281)', 'Control (281)', 'DeActs (283)', 'StablActs (351)', 'DeActs (283)', 'StablActs (351)']"
   ]
  },
  {
   "cell_type": "code",
   "execution_count": null,
   "id": "578f6199-0567-4a67-b9c0-aee9e52fde8b",
   "metadata": {},
   "outputs": [],
   "source": [
    "stats.f_oneway(df['cell area'][df['Condition'] == 'Control (281)'],\n",
    "               df['cell area'][df['Condition'] == 'DeActs (283)'],\n",
    "               df['cell area'][df['Condition'] == 'StablActs (351)'])"
   ]
  },
  {
   "cell_type": "code",
   "execution_count": null,
   "id": "73366b93-e4b1-4cc3-801d-a77cbeddecb6",
   "metadata": {},
   "outputs": [],
   "source": []
  }
 ],
 "metadata": {
  "kernelspec": {
   "display_name": "Python 3 (ipykernel)",
   "language": "python",
   "name": "python3"
  },
  "language_info": {
   "codemirror_mode": {
    "name": "ipython",
    "version": 3
   },
   "file_extension": ".py",
   "mimetype": "text/x-python",
   "name": "python",
   "nbconvert_exporter": "python",
   "pygments_lexer": "ipython3",
   "version": "3.10.9"
  }
 },
 "nbformat": 4,
 "nbformat_minor": 5
}

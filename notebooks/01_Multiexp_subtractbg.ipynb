{
 "cells": [
  {
   "cell_type": "markdown",
   "id": "bc573426-f812-44f1-97fd-9e0217e2b321",
   "metadata": {},
   "source": [
    "# **Background Sutract Images**\n",
    "\n",
    "#### In this notebook, we will subtract background from ome-tiff images"
   ]
  },
  {
   "cell_type": "code",
   "execution_count": null,
   "id": "21ff9356-1a89-4d47-a28e-6c6104f9c295",
   "metadata": {},
   "outputs": [],
   "source": [
    "# Import packages\n",
    "import sys\n",
    "import numpy as np\n",
    "from pathlib import Path\n",
    "\n",
    "src_path = str(Path.cwd().parent)\n",
    "if src_path not in sys.path:\n",
    "    sys.path.append(src_path)\n",
    "    \n",
    "from src.d01_init_proc.subtractbg import batch_subtract_bg\n",
    "\n",
    "%matplotlib notebook\n",
    "%matplotlib inline\n"
   ]
  },
  {
   "cell_type": "markdown",
   "id": "ce065f24-7120-4976-8a36-37184a8abd0e",
   "metadata": {},
   "source": [
    "## Import images\n",
    "\n",
    "##### **Add path for a folder of images to be analyzed.**\n",
    "##### Example: exp_dir = \"/Users/kwu2/Documents/Experiments/mRcaax594_MBP647\""
   ]
  },
  {
   "cell_type": "code",
   "execution_count": null,
   "id": "57ace552-bb32-434f-967b-0e5d669ffcc1",
   "metadata": {},
   "outputs": [],
   "source": [
    "multiexp_dirpath = input('Please enter the path for the multiexpental directory:')"
   ]
  },
  {
   "cell_type": "code",
   "execution_count": null,
   "id": "5915c632-8722-4c10-a368-f3b0bf4ececb",
   "metadata": {},
   "outputs": [],
   "source": [
    "exp_dirs = [exp_dir for exp_dir in Path(multiexp_dirpath).glob('*aligned')]\n",
    "exp_dirs.sort()"
   ]
  },
  {
   "cell_type": "markdown",
   "id": "de81e140-7244-43b5-8c90-a1b82eabd12d",
   "metadata": {},
   "source": [
    "### Remove background from ome-tiff images.\n",
    "\n",
    "##### Optimize parameters for background subtraction for each channel"
   ]
  },
  {
   "cell_type": "code",
   "execution_count": null,
   "id": "e58a66b0-bba5-41ea-8a32-9394752afcbf",
   "metadata": {},
   "outputs": [],
   "source": [
    "ch_to_process=[2]\n",
    "\n",
    "params_to_test = []\n",
    "\n",
    "# Parameter set\n",
    "# 100 percentile is equivalent to no clipping at all\n",
    "params = {}\n",
    "params['outlier_percentiles'] = [80]\n",
    "params['sigmas_smoothing'] = [0.5]\n",
    "params_to_test.append(params)\n",
    "\n",
    "for params in params_to_test:\n",
    "    print(params)"
   ]
  },
  {
   "cell_type": "code",
   "execution_count": null,
   "id": "d67bc3fb-6be9-49d9-928c-e6af75a856f3",
   "metadata": {},
   "outputs": [],
   "source": [
    "#subset=list(np.arange(0, 3))\n",
    "subset=None\n",
    "target_perc_grayval = 40\n",
    "imgdir_name = 'raw_ometifs_chsubset'"
   ]
  },
  {
   "cell_type": "code",
   "execution_count": null,
   "id": "e49ab95a-115d-4e9b-9ef5-fbb89f5f8e48",
   "metadata": {},
   "outputs": [],
   "source": [
    "for exp_dir in exp_dirs:\n",
    "    img_dirpath = exp_dir / 'img_processing' / imgdir_name\n",
    "    batch_subtract_bg(img_dirpath, params_to_test, ch_to_process=ch_to_process, subset=subset, target_perc_grayval=target_perc_grayval)"
   ]
  }
 ],
 "metadata": {
  "kernelspec": {
   "display_name": "Python 3 (ipykernel)",
   "language": "python",
   "name": "python3"
  },
  "language_info": {
   "codemirror_mode": {
    "name": "ipython",
    "version": 3
   },
   "file_extension": ".py",
   "mimetype": "text/x-python",
   "name": "python",
   "nbconvert_exporter": "python",
   "pygments_lexer": "ipython3",
   "version": "3.10.9"
  }
 },
 "nbformat": 4,
 "nbformat_minor": 5
}

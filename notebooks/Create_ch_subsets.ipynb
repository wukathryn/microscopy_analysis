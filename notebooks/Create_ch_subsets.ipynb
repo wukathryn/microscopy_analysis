{
 "cells": [
  {
   "cell_type": "code",
   "execution_count": null,
   "id": "c40c63f4-1aa2-48bb-b896-858395dcb5b6",
   "metadata": {},
   "outputs": [],
   "source": [
    "import numpy as np\n",
    "from pathlib import Path\n",
    "from aicsimageio import AICSImage\n",
    "from aicsimageio.readers.ome_tiff_reader import OmeTiffReader\n",
    "from aicsimageio.writers import OmeTiffWriter\n",
    "\n",
    "import sys\n",
    "src_path = str(Path.cwd().parent)\n",
    "if src_path not in sys.path:\n",
    "    sys.path.append(src_path)\n",
    "from src.d00_utils.utilities import construct_ome_metadata"
   ]
  },
  {
   "cell_type": "code",
   "execution_count": null,
   "id": "2010c6d0-0d9d-42f2-b304-96b267f027f4",
   "metadata": {},
   "outputs": [],
   "source": [
    "input_dirpath = input()"
   ]
  },
  {
   "cell_type": "code",
   "execution_count": null,
   "id": "45ad7ed4-6dca-43d7-9567-f31ac83454cb",
   "metadata": {},
   "outputs": [],
   "source": [
    "input_dirpath = Path(input_dirpath)\n",
    "imgpaths = [path for path in input_dirpath.glob('*.ome.tif')]\n",
    "imgsubset_dirpath = input_dirpath.parent / 'raw_ometifs_subset'\n",
    "imgsubset_dirpath.mkdir(parents=True, exist_ok=True)\n",
    "\n",
    "for imgpath in imgpaths:\n",
    "    img_file = AICSImage(imgpath, reader=OmeTiffReader)\n",
    "    img = img_file.data\n",
    "    imgsubset = np.concatenate((img[:, :3, :, :], img[:, -1:, :, :]), axis=1)\n",
    "    \n",
    "    ome_metadata = construct_ome_metadata(imgsubset, img_file.physical_pixel_sizes, channel_names=None)\n",
    "    OmeTiffWriter.save(imgsubset, imgsubset_dirpath / imgpath.name,\n",
    "                               ome_xml=ome_metadata)\n",
    "print('Done!')"
   ]
  },
  {
   "cell_type": "code",
   "execution_count": null,
   "id": "21423543-de70-4a35-9cb0-1fe881d5e429",
   "metadata": {},
   "outputs": [],
   "source": []
  }
 ],
 "metadata": {
  "kernelspec": {
   "display_name": "Python 3 (ipykernel)",
   "language": "python",
   "name": "python3"
  },
  "language_info": {
   "codemirror_mode": {
    "name": "ipython",
    "version": 3
   },
   "file_extension": ".py",
   "mimetype": "text/x-python",
   "name": "python",
   "nbconvert_exporter": "python",
   "pygments_lexer": "ipython3",
   "version": "3.10.9"
  }
 },
 "nbformat": 4,
 "nbformat_minor": 5
}

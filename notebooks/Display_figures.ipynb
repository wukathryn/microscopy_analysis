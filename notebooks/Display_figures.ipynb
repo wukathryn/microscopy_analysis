{
 "cells": [
  {
   "cell_type": "markdown",
   "id": "bca27415-ab78-4c5f-910f-fc7033e902d5",
   "metadata": {},
   "source": [
    "*Show all background subtracted figures*"
   ]
  },
  {
   "cell_type": "code",
   "execution_count": null,
   "id": "7619fa7e-cf12-4175-95e1-41f5aef21f2a",
   "metadata": {},
   "outputs": [],
   "source": [
    "from pathlib import Path\n",
    "import matplotlib.pyplot as plt\n",
    "\n",
    "import matplotlib.image as mpimg\n",
    "import sys\n",
    "src_path = str(Path.cwd().parent)\n",
    "if src_path not in sys.path:\n",
    "    sys.path.append(src_path)\n",
    "from src.d01_init_proc import vis_and_rescale"
   ]
  },
  {
   "cell_type": "code",
   "execution_count": null,
   "id": "eea2485d-4628-4289-b1e2-aa612c7afad9",
   "metadata": {},
   "outputs": [],
   "source": [
    "fig_dirpath = Path(input(\"Please enter the path for the directory containing figures:\"))"
   ]
  },
  {
   "cell_type": "code",
   "execution_count": null,
   "id": "4cd9dc75-bf0c-4f2c-8f03-87f53f546b25",
   "metadata": {},
   "outputs": [],
   "source": [
    "vis_and_rescale.show_figs(fig_dirpath)"
   ]
  },
  {
   "cell_type": "code",
   "execution_count": null,
   "id": "b4a885b2-17bc-4121-85d1-46dcb3123bfc",
   "metadata": {},
   "outputs": [],
   "source": []
  }
 ],
 "metadata": {
  "kernelspec": {
   "display_name": "Python 3 (ipykernel)",
   "language": "python",
   "name": "python3"
  },
  "language_info": {
   "codemirror_mode": {
    "name": "ipython",
    "version": 3
   },
   "file_extension": ".py",
   "mimetype": "text/x-python",
   "name": "python",
   "nbconvert_exporter": "python",
   "pygments_lexer": "ipython3",
   "version": "3.10.9"
  }
 },
 "nbformat": 4,
 "nbformat_minor": 5
}

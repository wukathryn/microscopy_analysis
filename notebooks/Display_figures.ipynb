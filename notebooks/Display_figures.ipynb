{
 "cells": [
  {
   "cell_type": "markdown",
   "id": "bca27415-ab78-4c5f-910f-fc7033e902d5",
   "metadata": {},
   "source": [
    "*Show all background subtracted figures*"
   ]
  },
  {
   "cell_type": "code",
   "execution_count": null,
   "id": "7619fa7e-cf12-4175-95e1-41f5aef21f2a",
   "metadata": {},
   "outputs": [],
   "source": [
    "from pathlib import Path\n",
    "import matplotlib.pyplot as plt\n",
    "\n",
    "import matplotlib.image as mpimg\n",
    "import sys\n",
    "src_path = str(Path.cwd().parent)\n",
    "if src_path not in sys.path:\n",
    "    sys.path.append(src_path)\n",
    "from src.d01_init_proc import vis_and_rescale"
   ]
  },
  {
   "cell_type": "code",
   "execution_count": null,
   "id": "eea2485d-4628-4289-b1e2-aa612c7afad9",
   "metadata": {},
   "outputs": [],
   "source": [
    "fig_dirpath = Path(input(\"Please enter the path for the directory containing figures:\"))"
   ]
  },
  {
   "cell_type": "code",
   "execution_count": null,
   "id": "55b3b05c-599e-461d-9e11-98a869f000b2",
   "metadata": {},
   "outputs": [],
   "source": [
    "unique_wells = ['I8*A1', 'I8*A2', 'I8*A3', 'I8*A4', 'I8*B1', 'I8*B2', 'I8*B3', 'I8*B4']\n",
    "for unique_well in unique_wells:\n",
    "    print(f'Well: {unique_well}')\n",
    "    vis_and_rescale.show_figs(fig_dirpath, selection_phrase = unique_well)"
   ]
  },
  {
   "cell_type": "code",
   "execution_count": null,
   "id": "9d31cdf9-17a3-4a40-9fc2-3b98c9fe25a1",
   "metadata": {},
   "outputs": [],
   "source": []
  }
 ],
 "metadata": {
  "kernelspec": {
   "display_name": "Python 3 (ipykernel)",
   "language": "python",
   "name": "python3"
  },
  "language_info": {
   "codemirror_mode": {
    "name": "ipython",
    "version": 3
   },
   "file_extension": ".py",
   "mimetype": "text/x-python",
   "name": "python",
   "nbconvert_exporter": "python",
   "pygments_lexer": "ipython3",
   "version": "3.10.9"
  }
 },
 "nbformat": 4,
 "nbformat_minor": 5
}

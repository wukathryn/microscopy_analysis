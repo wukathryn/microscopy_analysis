{
 "cells": [
  {
   "cell_type": "code",
   "execution_count": null,
   "id": "0582860e-4b78-4ea3-8d62-2fb15b7d8cf5",
   "metadata": {},
   "outputs": [],
   "source": [
    "from pathlib import Path\n",
    "import numpy as np\n",
    "from aicsimageio import AICSImage\n",
    "from aicsimageio.readers.ome_tiff_reader import OmeTiffReader\n",
    "import matplotlib.colors as mcolors\n",
    "import matplotlib.pyplot as plt\n",
    "\n",
    "%matplotlib notebook\n",
    "%matplotlib inline\n",
    "import pandas as pd\n",
    "import seaborn as sns\n",
    "\n",
    "import sys\n",
    "src_path = str(Path.cwd().parent)\n",
    "if src_path not in sys.path:\n",
    "    sys.path.append(src_path)\n",
    "#from src.d00_utils.dirnames import excl_analysis_dirname\n",
    "from src.d00_utils import utilities as utils\n",
    "from src.d00_utils import dirnames as dn\n",
    "from src.d01_init_proc import vis_and_rescale"
   ]
  },
  {
   "cell_type": "code",
   "execution_count": null,
   "id": "86732252-1d63-4cfb-bc8a-aa80ec901c4d",
   "metadata": {},
   "outputs": [],
   "source": [
    "input_dirpath = input('Please enter the full path for the input directory:\\n')\n",
    "input_dirpath = Path(input_dirpath)"
   ]
  },
  {
   "cell_type": "code",
   "execution_count": null,
   "id": "3edd07ff-ad51-4c51-a4ef-ad48c8ffcbd1",
   "metadata": {},
   "outputs": [],
   "source": [
    "caax_ch = 0\n",
    "cell_ch = 2\n",
    "\n",
    "ch_labels = ['mRuby', 'GFP', 'membrane', 'phalloidin']\n",
    "ch_save_abbr = ch_labels"
   ]
  },
  {
   "cell_type": "code",
   "execution_count": null,
   "id": "df9a1cb6-a8c2-418a-9251-6054a5c96578",
   "metadata": {},
   "outputs": [],
   "source": [
    "def save_ratiometric_img(num_ch, denom_ch, img, saveinfo, ratio_thresh=1.1):\n",
    "    \n",
    "    (imgname, ch_labels, ch_save_abbr, output_subdirpath) = saveinfo\n",
    "    info_df = utils.extract_img_info(imgname)\n",
    "    \n",
    "    # convert 0s in the image to nan\n",
    "    img_nanbg = np.where(img==0, np.nan, img)\n",
    "    \n",
    "    # calculate ratio\n",
    "    if num_ch is None:\n",
    "        ratio = 1 / img_nanbg[:, denom_ch, :, :, :].squeeze()\n",
    "    else:\n",
    "        ratio = img_nanbg[:, num_ch, :, :, :].squeeze() / img_nanbg[:, denom_ch, :, :, :].squeeze()\n",
    "    \n",
    "    # set mean = 1\n",
    "    ratio = ratio / np.nanmean(ratio)\n",
    "    bin_ratio = (ratio > ratio_thresh).astype('bool')\n",
    "    \n",
    "    # Set labels\n",
    "    base_imgname = imgname.split('.')[0]\n",
    "    UID = info_df['UID'].values[0]\n",
    "    if num_ch is None:\n",
    "        num_lab = 1\n",
    "    else:\n",
    "        num_lab = {ch_labels[num_ch]}\n",
    "    \n",
    "    \n",
    "    # show image\n",
    "    fig, axs = plt.subplots(1, 2)\n",
    "    # #rg = axs[0].imshow(ratio, norm=mcolors.TwoSlopeNorm(vmin=0,\n",
    "    #                               vcenter=1, vmax=3), cmap='coolwarm', interpolation=None)\n",
    "    denom_img, _ = vis_and_rescale.rescale_img(img[:, denom_ch, np.newaxis, :, :, :], conv_to_8bit=True)\n",
    "    axs[0].imshow(denom_img.squeeze(), cmap='gray', interpolation=None)\n",
    "    axs[0].set_title(f'Rescaled ch{denom_ch} image')\n",
    "    axs[0].axis('off')\n",
    "    #plt.colorbar(rg, ax=axs[0], shrink=0.5)\n",
    "    axs[1].imshow(bin_ratio, cmap='gray', interpolation=None)\n",
    "    axs[1].axis('off')\n",
    "    axs[1].set_title(f'normalized {num_lab} / {ch_labels[denom_ch]} > {ratio_thresh}')\n",
    "    UID = info_df['UID'].values[0]\n",
    "    plt.suptitle(UID)\n",
    "    plt.tight_layout()\n",
    "    plt.show()\n",
    "    \n",
    "    # Save figures\n",
    "    output_figspath = output_subdirpath / 'figs'\n",
    "    output_figspath.mkdir(parents=True, exist_ok=True)\n",
    "    fig.savefig(output_figspath / f'{base_imgname}.pdf')\n",
    "    \n",
    "    # Save ratiometric array\n",
    "    output_arraypath = output_subdirpath / 'ratiometric_arrays'\n",
    "    output_arraypath.mkdir(parents=True, exist_ok=True)\n",
    "    np.save(output_arraypath / f'{base_imgname}.npy', ratio)\n",
    "    return ratio, bin_ratio"
   ]
  },
  {
   "cell_type": "code",
   "execution_count": null,
   "id": "73c06610-c13e-4090-91d9-54987c371029",
   "metadata": {},
   "outputs": [],
   "source": [
    "input_dirpath = Path(input_dirpath)\n",
    "\n",
    "# Get output directory path\n",
    "proc_dirpath = utils.get_proc_dirpath(input_dirpath)\n",
    "output_dirpath = proc_dirpath / dn.analyses_dirname / dn.ratiometric_dirname\n",
    "\n",
    "imgpaths = [path for path in input_dirpath.glob('*.ome.tif')]\n",
    "imgpaths.sort()\n",
    "\n",
    "\n",
    "imgnames = []\n",
    "cellareas = []\n",
    "excludedareas = []\n",
    "\n",
    "for imgpath in imgpaths:\n",
    "    imgnames.append(imgpath.name)\n",
    "        \n",
    "    # Get output subdirectory paths\n",
    "    output_subdirpath = output_dirpath / f'exclusion_caaxch{caax_ch}'\n",
    "\n",
    "    saveinfo = (imgpath.name, ch_labels, ch_save_abbr, output_subdirpath)\n",
    "\n",
    "    img_file = AICSImage(imgpath, reader=OmeTiffReader)\n",
    "    img = img_file.data\n",
    "    img = img[0:1, :, :, :, :]\n",
    "\n",
    "    cellarea = np.count_nonzero(img[:, cell_ch, :, :, :])\n",
    "    cellareas.append(cellarea)\n",
    "\n",
    "    _, bin_ratio = save_ratiometric_img(None, caax_ch, img, saveinfo)\n",
    "    excludedarea = np.count_nonzero(bin_ratio)\n",
    "    excludedareas.append(excludedarea)\n",
    "        \n",
    "df = pd.DataFrame({'Image name': imgnames, 'Cell area': cellareas, 'Excluded area': excludedareas})\n",
    "df['% exclusion'] = df['Excluded area'] / df['Cell area']\n",
    "df.to_csv(output_dirpath / (f'ratiometric_exclusion_caaxch{caax_ch}.csv'), index=False)\n",
    "print(\"Done\")"
   ]
  },
  {
   "cell_type": "code",
   "execution_count": null,
   "id": "b4793fc4-ef10-4c23-a009-bb5f23af4bee",
   "metadata": {},
   "outputs": [],
   "source": [
    "def add_info(df):\n",
    "    \n",
    "    # Split imgname by '_'\n",
    "    namesplits = [imgname.split('_') for imgname in df['Image name']]\n",
    "    \n",
    "    # Obtain dish name/number\n",
    "    df['dish'] = [namesplit[1] for namesplit in namesplits]\n",
    "\n",
    "    # Obtain well info\n",
    "    df['well'] = [imgname.split('_')[5].split('-')[1] for imgname in df['Image name']]\n",
    "    \n",
    "    df['unique well'] = df['dish'] + '-' + df['well']\n",
    "    \n",
    "    return df\n"
   ]
  },
  {
   "cell_type": "code",
   "execution_count": null,
   "id": "d1314248-1716-4e53-926a-1ce50b5ec2bf",
   "metadata": {},
   "outputs": [],
   "source": [
    "x_label = 'well'\n",
    "y_labels = ['Cell area', '% exclusion']\n",
    "sns.swarmplot(df, x=x_label, y='% exclusion', legend=False, color='gray')"
   ]
  },
  {
   "cell_type": "code",
   "execution_count": null,
   "id": "a1aea2cf-ccc3-4f52-adbc-8433e8d4946d",
   "metadata": {},
   "outputs": [],
   "source": [
    "df0_path = Path('/Users/kwu2/Library/CloudStorage/GoogleDrive-kwu2@stanford.edu/My Drive/Lab/CryoEM_live_imaging/Experiments/CE027/actin genetic exp/CE027_ratB_div7/aligned/experiment/I7_ratB_div7_and_I7_ratB_div7_phalloidin_aligned/img_processing/analyses/ratiometric/ratiometric_exclusion_caaxch0.csv')\n",
    "df1_path = Path('/Users/kwu2/Library/CloudStorage/GoogleDrive-kwu2@stanford.edu/My Drive/Lab/CryoEM_live_imaging/Experiments/CE027/actin genetic exp/CE027_ratB_div7/aligned/experiment/I7_ratB_div7_and_I7_ratB_div7_phalloidin_aligned/img_processing/analyses/ratiometric/ratiometric_exclusion_caaxch1.csv')"
   ]
  },
  {
   "cell_type": "code",
   "execution_count": null,
   "id": "0143816d-d8fa-4831-8a1a-6d33f04e6761",
   "metadata": {},
   "outputs": [],
   "source": [
    "df2_path = Path('/Users/kwu2/Library/CloudStorage/GoogleDrive-kwu2@stanford.edu/My Drive/Lab/CryoEM_live_imaging/Experiments/CE027/actin genetic exp/CE027_ratB_div7/aligned/experiment/I8_ratB_div7_and_I8_ratB_div7_phalloidin_A1A2_aligned/img_processing/analyses/ratiometric/ratiometric_exclusion_caaxch0.csv')"
   ]
  },
  {
   "cell_type": "code",
   "execution_count": null,
   "id": "9c8c783c-2a2b-49c1-88cb-18f79215382e",
   "metadata": {},
   "outputs": [],
   "source": [
    "df0 = pd.read_csv(df0_path)\n",
    "df1 = pd.read_csv(df1_path)\n",
    "df2 = pd.read_csv(df2_path)\n",
    "\n",
    "df_combined = pd.concat([df0, df1, df2], ignore_index=True)\n",
    "df_combined.head()\n"
   ]
  },
  {
   "cell_type": "code",
   "execution_count": null,
   "id": "221e9eb1-a723-4aa3-a52e-95c48aa1cbb9",
   "metadata": {},
   "outputs": [],
   "source": [
    "df_combined = add_info(df_combined)\n",
    "df_combined.head()"
   ]
  },
  {
   "cell_type": "code",
   "execution_count": null,
   "id": "00ebf018-dc73-455a-a93c-2095f2c2699c",
   "metadata": {},
   "outputs": [],
   "source": [
    "x_label = 'unique well'\n",
    "y_labels = ['Cell area', '% exclusion']\n",
    "for y_label in y_labels:\n",
    "    sns.swarmplot(df_combined, x=x_label, y=y_label, legend=False, color='gray')\n",
    "    plt.show()\n"
   ]
  },
  {
   "cell_type": "code",
   "execution_count": null,
   "id": "80eba800-2f69-4616-983c-e4f3fb652d2c",
   "metadata": {},
   "outputs": [],
   "source": [
    "df = df_combined"
   ]
  },
  {
   "cell_type": "code",
   "execution_count": null,
   "id": "a7df3de5-f1da-4e31-8000-59d9d11720ef",
   "metadata": {},
   "outputs": [],
   "source": [
    "unique_wells = ['I7-A1', 'I7-A2', 'I7-A3', 'I7-A4', 'I7-B1', 'I7-B2', 'I7-B3', 'I7-B4', 'I8-A1', 'I8-A2']\n",
    "unique_well_df = [df['unique well'] == well for well in unique_wells]\n",
    "conditions = ['281', '218+424', '281', '218+424', '281+351', '281+351', '218+281', '218+281', '283+218', '283+218']\n",
    "replicates = [1, 1, 2, 2, 1, 2, 1, 2, 1, 2]\n",
    "\n",
    "df_combined['condition'] = np.select(unique_wells_df, conditions)\n",
    "df_combined['replicate'] = np.select(unique_wells_df, replicates)\n",
    "df.head()\n",
    "\n",
    "\n"
   ]
  },
  {
   "cell_type": "code",
   "execution_count": null,
   "id": "147c363c-02f9-4bcf-abd4-511fe2cc0161",
   "metadata": {},
   "outputs": [],
   "source": [
    "x_label = 'condition'\n",
    "y_labels = ['Cell area', '% exclusion']\n",
    "hue = 'replicate'\n",
    "for y_label in y_labels:\n",
    "    sns.swarmplot(df, x=x_label, y=y_label, hue='replicate', legend=False, color='gray')\n",
    "    plt.show()\n"
   ]
  },
  {
   "cell_type": "code",
   "execution_count": null,
   "id": "2873dc9f-d6e7-4881-9721-60122e4dad00",
   "metadata": {},
   "outputs": [],
   "source": [
    "df.groupby('unique well')['unique well'].count()"
   ]
  },
  {
   "cell_type": "code",
   "execution_count": null,
   "id": "517204d2-6897-4975-aa54-45187ab0fe3e",
   "metadata": {},
   "outputs": [],
   "source": []
  }
 ],
 "metadata": {
  "kernelspec": {
   "display_name": "Python [conda env:img_analysis] *",
   "language": "python",
   "name": "conda-env-img_analysis-py"
  },
  "language_info": {
   "codemirror_mode": {
    "name": "ipython",
    "version": 3
   },
   "file_extension": ".py",
   "mimetype": "text/x-python",
   "name": "python",
   "nbconvert_exporter": "python",
   "pygments_lexer": "ipython3",
   "version": "3.10.9"
  }
 },
 "nbformat": 4,
 "nbformat_minor": 5
}

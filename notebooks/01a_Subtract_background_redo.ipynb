{
 "cells": [
  {
   "cell_type": "markdown",
   "id": "bc573426-f812-44f1-97fd-9e0217e2b321",
   "metadata": {},
   "source": [
    "# **Subtract image backgrounds**\n",
    "\n",
    "#### In this notebook, we will subtract the background from ome-tiff images"
   ]
  },
  {
   "cell_type": "code",
   "execution_count": null,
   "id": "21ff9356-1a89-4d47-a28e-6c6104f9c295",
   "metadata": {},
   "outputs": [],
   "source": [
    "# Import packages\n",
    "import sys\n",
    "import numpy as np\n",
    "from pathlib import Path\n",
    "\n",
    "src_path = str(Path.cwd().parent)\n",
    "if src_path not in sys.path:\n",
    "    sys.path.append(src_path)\n",
    "    \n",
    "from src.d01_init_proc import subtractbg, vis_and_rescale\n",
    "\n",
    "%matplotlib notebook\n",
    "%matplotlib inline\n"
   ]
  },
  {
   "cell_type": "markdown",
   "id": "ce065f24-7120-4976-8a36-37184a8abd0e",
   "metadata": {},
   "source": [
    "## Import images\n",
    "\n",
    "##### **Add path for a folder of images to be analyzed.**\n",
    "##### Example: exp_dir = \"/Users/kwu2/Documents/Experiments/mRcaax594_MBP647\""
   ]
  },
  {
   "cell_type": "code",
   "execution_count": null,
   "id": "57ace552-bb32-434f-967b-0e5d669ffcc1",
   "metadata": {},
   "outputs": [],
   "source": [
    "exp_dir = \"/Users/kwu2/Library/CloudStorage/GoogleDrive-kwu2@stanford.edu/My Drive/Lab/CryoEM_live_imaging/Experiments/CE012/CZI_to_process/div4_fixed_and_div4_fixed_stained_aligned\""
   ]
  },
  {
   "cell_type": "code",
   "execution_count": null,
   "id": "671c0aff-3e0b-4014-9d9c-13bf10c44170",
   "metadata": {},
   "outputs": [],
   "source": [
    "#openczi.batch_convert_czi_to_tif(exp_dir)"
   ]
  },
  {
   "cell_type": "markdown",
   "id": "de81e140-7244-43b5-8c90-a1b82eabd12d",
   "metadata": {},
   "source": [
    "### Remove background from ome-tiff images.\n",
    "\n",
    "##### Optimize parameters for background subtraction for each channel"
   ]
  },
  {
   "cell_type": "code",
   "execution_count": null,
   "id": "767db3be-5a67-49ca-9dce-17c02abe7d06",
   "metadata": {},
   "outputs": [],
   "source": [
    "params_to_test = []"
   ]
  },
  {
   "cell_type": "code",
   "execution_count": null,
   "id": "e58a66b0-bba5-41ea-8a32-9394752afcbf",
   "metadata": {},
   "outputs": [],
   "source": [
    "params = {}\n",
    "\n",
    "num_ch = \n",
    "# 100 percentile is equivalent to no clipping at all\n",
    "params['outlier_percentiles'] = [80, 50, 80, 45]\n",
    "\n",
    "# 0 sigma_smoothing = no smoothing\n",
    "params['sigmas_smoothing'] = [0.8]\n",
    "params_to_test.append(params)\n",
    "\n",
    "for params in params_to_test:\n",
    "    print(params)"
   ]
  },
  {
   "cell_type": "code",
   "execution_count": null,
   "id": "d67bc3fb-6be9-49d9-928c-e6af75a856f3",
   "metadata": {},
   "outputs": [],
   "source": [
    "subtractbg.process_folder(exp_dir, params_to_test, saveimgs=True)"
   ]
  },
  {
   "cell_type": "markdown",
   "id": "5635dd21-b8e0-4403-9b87-0459ece295bd",
   "metadata": {},
   "source": [
    "##### Step 2b: Run background subtraction for each channel"
   ]
  },
  {
   "cell_type": "code",
   "execution_count": null,
   "id": "d1cb50e7-230b-495f-9156-6c50aadcb358",
   "metadata": {},
   "outputs": [],
   "source": []
  }
 ],
 "metadata": {
  "kernelspec": {
   "display_name": "Python 3 (ipykernel)",
   "language": "python",
   "name": "python3"
  },
  "language_info": {
   "codemirror_mode": {
    "name": "ipython",
    "version": 3
   },
   "file_extension": ".py",
   "mimetype": "text/x-python",
   "name": "python",
   "nbconvert_exporter": "python",
   "pygments_lexer": "ipython3",
   "version": "3.10.9"
  }
 },
 "nbformat": 4,
 "nbformat_minor": 5
}

{
 "cells": [
  {
   "cell_type": "markdown",
   "id": "bc573426-f812-44f1-97fd-9e0217e2b321",
   "metadata": {},
   "source": [
    "# **Select background subtracted images**\n"
   ]
  },
  {
   "cell_type": "code",
   "execution_count": null,
   "id": "21ff9356-1a89-4d47-a28e-6c6104f9c295",
   "metadata": {},
   "outputs": [],
   "source": [
    "# Import packages\n",
    "import sys\n",
    "import numpy as np\n",
    "from pathlib import Path\n",
    "\n",
    "src_path = str(Path.cwd().parent)\n",
    "if src_path not in sys.path:\n",
    "    sys.path.append(src_path)\n",
    "    \n",
    "from src.d01_init_proc.subtractbg import batch_subtract_bg\n",
    "\n",
    "%matplotlib notebook\n",
    "%matplotlib inline\n",
    "\n",
    "import pandas as pd\n"
   ]
  },
  {
   "cell_type": "markdown",
   "id": "ce065f24-7120-4976-8a36-37184a8abd0e",
   "metadata": {},
   "source": [
    "## Import images\n",
    "\n",
    "##### **Add path for a folder of images to be analyzed.**"
   ]
  },
  {
   "cell_type": "code",
   "execution_count": null,
   "id": "f6f51981-ff32-4165-9400-a7668800b956",
   "metadata": {},
   "outputs": [],
   "source": [
    "subtractbg_params_path = Path(input('Please enter the full path for the subtractbg_params.csv file:\\n'))"
   ]
  },
  {
   "cell_type": "code",
   "execution_count": null,
   "id": "861a2c38-d097-4833-b841-cd25151543c6",
   "metadata": {},
   "outputs": [],
   "source": [
    "def process_bgsub_files(subtractbg_params_path):\n",
    "    \n",
    "    df = pd.read_csv(subtractbg_params_path)\n",
    "    df['bgsub_basename'] = [(imgname.split('.')[0] + '_' + bgsub_time) for imgname, bgsub_time in zip(df['Image name'], df['Bgsub_time'])]\n",
    "    selected_bgsub_ometifs = list(df['bgsub_basename'].loc[(df['Keep? Y/N']=='Y')])\n",
    "\n",
    "    bgsub_dirpath = subtractbg_params_path.parent\n",
    "    bgsub_selected_dirpath = bgsub_dirpath.parent / 'bg_subtracted_selected'\n",
    "    bgsub_selected_figs_dirpath = bgsub_selected_dirpath / 'bg_sb_figs'\n",
    "    bgsub_selected_figs_dirpath.mkdir(parents=True, exist_ok=True)\n",
    "\n",
    "    num_moved = 0\n",
    "\n",
    "    for bgsub_ometif in selected_bgsub_ometifs:\n",
    "        orig_path = bgsub_dirpath / (bgsub_ometif + '.ome.tif')\n",
    "        if (orig_path.is_file()):\n",
    "            num_moved = num_moved + 1\n",
    "            orig_path.rename(bgsub_selected_dirpath / (bgsub_ometif + '.ome.tif'))\n",
    "        orig_fig_path = bgsub_dirpath / 'bg_sb_figs' / (bgsub_ometif + '.png')\n",
    "        if (orig_fig_path.is_file()):\n",
    "            orig_fig_path.rename(bgsub_selected_figs_dirpath / (bgsub_ometif + '.png'))\n",
    "        \n",
    "    print(f'{num_moved} files moved')\n",
    "    \n",
    "    redo_bgsub_idc = list(df['Index'].loc[(df['Redo? Y/N']=='Y')])\n",
    "    return redo_bgsub_idc\n",
    "    \n",
    "redo_bgsub_idc = process_bgsub_files(subtractbg_params_path)\n",
    "print(redo_bgsub_idc)"
   ]
  },
  {
   "cell_type": "code",
   "execution_count": null,
   "id": "26b73ccb-e9f0-4949-93f9-7894300a751b",
   "metadata": {},
   "outputs": [],
   "source": [
    "input_dirpath = input()"
   ]
  },
  {
   "cell_type": "code",
   "execution_count": null,
   "id": "7e454ef8-d562-4ae3-bea5-860385345aab",
   "metadata": {},
   "outputs": [],
   "source": [
    "params_to_test = []"
   ]
  },
  {
   "cell_type": "code",
   "execution_count": null,
   "id": "6e27eaf7-2a24-4f85-8b29-39f5beb6f1c4",
   "metadata": {},
   "outputs": [],
   "source": [
    "ch_to_process=(1, 2)\n",
    "\n",
    "params = {}\n",
    "# 100 percentile is equivalent to no clipping at all\n",
    "params['outlier_percentiles'] = [93, 70]\n",
    "\n",
    "# 0 sigma_smoothing = no smoothing\n",
    "params['sigmas_smoothing'] = [0, 0.5]\n",
    "params_to_test.append(params)\n",
    "\n",
    "for params in params_to_test:\n",
    "    print(params)"
   ]
  },
  {
   "cell_type": "code",
   "execution_count": null,
   "id": "b06cf678-2f6f-4848-a5ca-7d7af566bbe0",
   "metadata": {},
   "outputs": [],
   "source": [
    "subset=redo_bgsub_idc\n",
    "batch_subtract_bg(input_dirpath, params_to_test, ch_to_process=ch_to_process, subset=subset, target_perc_grayval=50)"
   ]
  },
  {
   "cell_type": "code",
   "execution_count": null,
   "id": "689ab331-8aeb-4a7e-8b61-c43aa5bf5a92",
   "metadata": {},
   "outputs": [],
   "source": []
  }
 ],
 "metadata": {
  "kernelspec": {
   "display_name": "Python 3 (ipykernel)",
   "language": "python",
   "name": "python3"
  },
  "language_info": {
   "codemirror_mode": {
    "name": "ipython",
    "version": 3
   },
   "file_extension": ".py",
   "mimetype": "text/x-python",
   "name": "python",
   "nbconvert_exporter": "python",
   "pygments_lexer": "ipython3",
   "version": "3.10.9"
  }
 },
 "nbformat": 4,
 "nbformat_minor": 5
}

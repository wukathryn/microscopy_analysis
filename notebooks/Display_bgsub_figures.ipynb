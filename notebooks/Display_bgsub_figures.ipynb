{
 "cells": [
  {
   "cell_type": "markdown",
   "id": "bca27415-ab78-4c5f-910f-fc7033e902d5",
   "metadata": {},
   "source": [
    "*Show all background subtracted figures*"
   ]
  },
  {
   "cell_type": "code",
   "execution_count": null,
   "id": "7619fa7e-cf12-4175-95e1-41f5aef21f2a",
   "metadata": {},
   "outputs": [],
   "source": [
    "from pathlib import Path\n",
    "import matplotlib.pyplot as plt\n",
    "\n",
    "import matplotlib.image as mpimg\n"
   ]
  },
  {
   "cell_type": "code",
   "execution_count": null,
   "id": "eea2485d-4628-4289-b1e2-aa612c7afad9",
   "metadata": {},
   "outputs": [],
   "source": [
    "bg_sb_fig_dirpath = Path(input())"
   ]
  },
  {
   "cell_type": "code",
   "execution_count": null,
   "id": "ce22b573-9b5c-445a-a0d1-9dcb06213e5c",
   "metadata": {
    "tags": []
   },
   "outputs": [],
   "source": [
    "def show_bgsb_figs(bg_sb_fig_dirpath):\n",
    "    imgpaths = [imgpath for imgpath in bg_sb_fig_dirpath.glob('*.png')]\n",
    "    imgpaths.sort()\n",
    "    dpi = 100\n",
    "    for imgpath in imgpaths:\n",
    "        img = mpimg.imread(imgpath)\n",
    "        height, width, depth = img.shape\n",
    "        figsize = width / float(dpi), height / float(dpi)\n",
    "        fig = plt.figure(figsize=figsize)\n",
    "        ax = fig.add_axes([0, 0, 1, 1])\n",
    "        ax.axis('off')\n",
    "        ax.imshow(img, cmap='gray')\n",
    "        plt.show()\n",
    "\n",
    "show_bgsb_figs(bg_sb_fig_dirpath)\n",
    "    "
   ]
  },
  {
   "cell_type": "code",
   "execution_count": null,
   "id": "55b3b05c-599e-461d-9e11-98a869f000b2",
   "metadata": {},
   "outputs": [],
   "source": []
  },
  {
   "cell_type": "code",
   "execution_count": null,
   "id": "aea82a6e-e0c2-4d31-94b6-60457184e662",
   "metadata": {},
   "outputs": [],
   "source": []
  }
 ],
 "metadata": {
  "kernelspec": {
   "display_name": "Python 3 (ipykernel)",
   "language": "python",
   "name": "python3"
  },
  "language_info": {
   "codemirror_mode": {
    "name": "ipython",
    "version": 3
   },
   "file_extension": ".py",
   "mimetype": "text/x-python",
   "name": "python",
   "nbconvert_exporter": "python",
   "pygments_lexer": "ipython3",
   "version": "3.10.9"
  }
 },
 "nbformat": 4,
 "nbformat_minor": 5
}

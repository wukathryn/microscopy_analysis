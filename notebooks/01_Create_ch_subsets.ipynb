{
 "cells": [
  {
   "cell_type": "code",
   "execution_count": null,
   "id": "c40c63f4-1aa2-48bb-b896-858395dcb5b6",
   "metadata": {},
   "outputs": [],
   "source": [
    "from pathlib import Path\n",
    "\n",
    "import sys\n",
    "src_path = str(Path.cwd().parent)\n",
    "if src_path not in sys.path:\n",
    "    sys.path.append(src_path)\n",
    "import src.d00_utils.utilities as utils"
   ]
  },
  {
   "cell_type": "code",
   "execution_count": null,
   "id": "2010c6d0-0d9d-42f2-b304-96b267f027f4",
   "metadata": {},
   "outputs": [],
   "source": [
    "input_dirpath = Path(input())"
   ]
  },
  {
   "cell_type": "code",
   "execution_count": null,
   "id": "75ae6e71-dbc5-49da-9e24-5802f8434067",
   "metadata": {},
   "outputs": [],
   "source": [
    "ch_subsets = {}\n",
    "ch_subsets['caaxch'] = [0]\n",
    "ch_subsets['cellch'] = [1]\n",
    "\n",
    "for key, val in ch_subsets.items():\n",
    "    print(key)"
   ]
  },
  {
   "cell_type": "code",
   "execution_count": null,
   "id": "18677137-3f74-46e4-9073-bbfdae0f6eb5",
   "metadata": {},
   "outputs": [],
   "source": [
    "for imgpath in input_dirpath.glob('*.ome.tif'):\n",
    "    for subset, ch_list in ch_subsets.items():\n",
    "        ch_str = ''.join(str(ch) for ch in ch_list)\n",
    "        output_dir = input_dirpath.parent / f'raw_ometifs_chsubset{ch_str}_{subset}'\n",
    "        utils.create_ch_subset(ch_list, imgpath, output_dir = output_dir)"
   ]
  },
  {
   "cell_type": "code",
   "execution_count": null,
   "id": "b0210d86-62b0-471e-8b4a-63c095b08ac2",
   "metadata": {},
   "outputs": [],
   "source": []
  }
 ],
 "metadata": {
  "kernelspec": {
   "display_name": "Python 3 (ipykernel)",
   "language": "python",
   "name": "python3"
  },
  "language_info": {
   "codemirror_mode": {
    "name": "ipython",
    "version": 3
   },
   "file_extension": ".py",
   "mimetype": "text/x-python",
   "name": "python",
   "nbconvert_exporter": "python",
   "pygments_lexer": "ipython3",
   "version": "3.10.9"
  }
 },
 "nbformat": 4,
 "nbformat_minor": 5
}

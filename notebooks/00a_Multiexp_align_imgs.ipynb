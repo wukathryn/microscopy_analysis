{
 "cells": [
  {
   "cell_type": "code",
   "execution_count": null,
   "id": "109b365b-52db-4db3-9646-d292d450d454",
   "metadata": {},
   "outputs": [],
   "source": [
    "import sys\n",
    "from pathlib import Path\n",
    "src_path = str(Path.cwd().parent)\n",
    "if src_path not in sys.path:\n",
    "    sys.path.append(src_path)\n",
    "\n",
    "from src.d02_alignimages import align_imgs"
   ]
  },
  {
   "cell_type": "markdown",
   "id": "cda88b32-88cf-4eff-9f06-823a44320228",
   "metadata": {},
   "source": [
    "***Multi-experiment file directory structure***\n",
    "\n",
    "multiexp_dir<br>\n",
    "---aligndir_1<br>\n",
    "-----dir1<br>\n",
    "-----dir2<br>\n",
    "---aligndir_2<br>\n",
    "-----dir1<br>\n",
    "-----dir2<br>\n",
    "\n"
   ]
  },
  {
   "cell_type": "code",
   "execution_count": null,
   "id": "ff859af7-0b29-4d2c-8b4e-f678f9508b7d",
   "metadata": {},
   "outputs": [],
   "source": [
    "multiexp_dir = Path(input('Please enter a path for the multi-exp directory to be aligned:'))"
   ]
  },
  {
   "cell_type": "code",
   "execution_count": null,
   "id": "38b8a057-208d-4780-b244-115dcce71b18",
   "metadata": {},
   "outputs": [],
   "source": [
    "img1_ch_align = 1\n",
    "img2_ch_align = 1\n",
    "img1_ch_subset = [0, 1, 2]\n",
    "img2_ch_subset = [3]"
   ]
  },
  {
   "cell_type": "code",
   "execution_count": null,
   "id": "4676ec3d-2a8d-4132-bc24-5d2df1d1d295",
   "metadata": {},
   "outputs": [],
   "source": [
    "align_imgs.multiexp_align(multiexp_dir, img1_ch_align, img2_ch_align, img1_ch_subset, img2_ch_subset)"
   ]
  },
  {
   "cell_type": "code",
   "execution_count": null,
   "id": "1a014655-12fe-448f-a7f3-d99ee1889256",
   "metadata": {},
   "outputs": [],
   "source": []
  }
 ],
 "metadata": {
  "kernelspec": {
   "display_name": "Python 3 (ipykernel)",
   "language": "python",
   "name": "python3"
  },
  "language_info": {
   "codemirror_mode": {
    "name": "ipython",
    "version": 3
   },
   "file_extension": ".py",
   "mimetype": "text/x-python",
   "name": "python",
   "nbconvert_exporter": "python",
   "pygments_lexer": "ipython3",
   "version": "3.10.9"
  }
 },
 "nbformat": 4,
 "nbformat_minor": 5
}

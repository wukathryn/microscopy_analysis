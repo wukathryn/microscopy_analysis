{
 "cells": [
  {
   "cell_type": "markdown",
   "id": "b125c2a3-eb1c-4367-9d9a-4b15850c9548",
   "metadata": {},
   "source": [
    "# **Batch convert CZI images into ome-tiff files**"
   ]
  },
  {
   "cell_type": "code",
   "execution_count": null,
   "id": "22dc9376-a620-43fd-80a1-1b8e4290a75a",
   "metadata": {},
   "outputs": [],
   "source": [
    "# Import packages\n",
    "\n",
    "import sys\n",
    "import numpy as np\n",
    "from pathlib import Path\n",
    "\n",
    "src_path = str(Path.cwd().parent)\n",
    "if src_path not in sys.path:\n",
    "    sys.path.append(src_path)\n",
    "    \n",
    "from src.d01_init_proc import openczi, subtractbg, vis_and_rescale\n",
    "\n",
    "%matplotlib notebook\n",
    "%matplotlib inline"
   ]
  },
  {
   "cell_type": "markdown",
   "id": "04ba3aa5-0d02-49e5-84d0-65733656760f",
   "metadata": {},
   "source": [
    "## Import images\n",
    "\n",
    "##### **Add path for a folder of CZI images from multiple experiments.**"
   ]
  },
  {
   "cell_type": "code",
   "execution_count": null,
   "id": "58a6db19-7632-4f4e-80bf-96f396a6d8e6",
   "metadata": {},
   "outputs": [],
   "source": [
    "multiexp_dir = Path(input('Please enter the path for the folder containing images'))"
   ]
  },
  {
   "cell_type": "code",
   "execution_count": null,
   "id": "ca3c0b16-029a-47d4-9aad-31c7968af729",
   "metadata": {},
   "outputs": [],
   "source": [
    "# move files into their own folder\n",
    "multiexp_dir = Path(multiexp_dir)\n",
    "for imgpath in multiexp_dir.glob('*.czi'):\n",
    "    basename = str(imgpath.name).split('.')[0]\n",
    "    dirname = multiexp_dir / basename\n",
    "    dirname.mkdir(exist_ok=True)\n",
    "    imgpath.rename(dirname / imgpath.name)"
   ]
  },
  {
   "cell_type": "code",
   "execution_count": null,
   "id": "e3120ec9-b5f5-47c2-8c5b-58ef62ee8f3b",
   "metadata": {},
   "outputs": [],
   "source": [
    "# run batch convert on each folder\n",
    "dirnames = [dirname for dirname in multiexp_dir.iterdir() if dirname.is_dir()]\n",
    "\n",
    "for exp_dir in dirnames:\n",
    "    openczi.batch_convert_czi_to_tif(exp_dir)\n",
    "print('Finished converting to CZI for all directories')"
   ]
  },
  {
   "cell_type": "code",
   "execution_count": null,
   "id": "ba44fb4e-d9da-4e44-b047-abbbf1415720",
   "metadata": {},
   "outputs": [],
   "source": []
  },
  {
   "cell_type": "code",
   "execution_count": null,
   "id": "7c70c2f7-09f7-47a6-8d1c-809ac947b7ea",
   "metadata": {},
   "outputs": [],
   "source": []
  },
  {
   "cell_type": "code",
   "execution_count": null,
   "id": "479415cc-03a4-43be-937f-60df644b1ea4",
   "metadata": {},
   "outputs": [],
   "source": []
  }
 ],
 "metadata": {
  "kernelspec": {
   "display_name": "Python 3 (ipykernel)",
   "language": "python",
   "name": "python3"
  },
  "language_info": {
   "codemirror_mode": {
    "name": "ipython",
    "version": 3
   },
   "file_extension": ".py",
   "mimetype": "text/x-python",
   "name": "python",
   "nbconvert_exporter": "python",
   "pygments_lexer": "ipython3",
   "version": "3.10.9"
  }
 },
 "nbformat": 4,
 "nbformat_minor": 5
}

{
 "cells": [
  {
   "cell_type": "code",
   "execution_count": null,
   "id": "4e1d7c74-2e37-4387-890e-b1e86790e3dc",
   "metadata": {},
   "outputs": [],
   "source": [
    "# Goal: edit vis images"
   ]
  },
  {
   "cell_type": "code",
   "execution_count": null,
   "id": "eb80b6f1-bae3-4c38-8cf8-44c619cae05a",
   "metadata": {},
   "outputs": [],
   "source": [
    "import numpy as np\n",
    "from pathlib import Path\n",
    "from aicsimageio import AICSImage\n",
    "from aicsimageio.readers.ome_tiff_reader import OmeTiffReader\n",
    "from aicsimageio.writers import OmeTiffWriter\n",
    "\n",
    "import sys\n",
    "src_path = str(Path.cwd().parent)\n",
    "if src_path not in sys.path:\n",
    "    sys.path.append(src_path)\n",
    "from src.d01_init_proc.vis_and_rescale import batch_rescale_imgs\n",
    "from src.d00_utils.dirnames import init_rescale_dirname\n",
    "from src.d00_utils.utilities import generate_df_with_imgpaths\n",
    "\n",
    "%matplotlib notebook\n",
    "%matplotlib inline"
   ]
  },
  {
   "cell_type": "code",
   "execution_count": null,
   "id": "2ba4371f-f0bf-4e9b-a6de-72b1825e1ed8",
   "metadata": {},
   "outputs": [],
   "source": [
    "input_dirpath = input('Please enter the path for the folder containing images')"
   ]
  },
  {
   "cell_type": "code",
   "execution_count": null,
   "id": "801a2a2f-f099-48c6-a27d-6981e6cfd2ae",
   "metadata": {},
   "outputs": [],
   "source": [
    "batch_rescale_imgs(input_dirpath)"
   ]
  },
  {
   "cell_type": "code",
   "execution_count": null,
   "id": "5f6f8431-e413-43cf-a899-6a639aa48fe2",
   "metadata": {},
   "outputs": [],
   "source": []
  },
  {
   "cell_type": "code",
   "execution_count": null,
   "id": "de81d4c4-2ae8-40b5-bddf-3e3212ff33ab",
   "metadata": {},
   "outputs": [],
   "source": []
  }
 ],
 "metadata": {
  "kernelspec": {
   "display_name": "Python 3 (ipykernel)",
   "language": "python",
   "name": "python3"
  },
  "language_info": {
   "codemirror_mode": {
    "name": "ipython",
    "version": 3
   },
   "file_extension": ".py",
   "mimetype": "text/x-python",
   "name": "python",
   "nbconvert_exporter": "python",
   "pygments_lexer": "ipython3",
   "version": "3.10.9"
  }
 },
 "nbformat": 4,
 "nbformat_minor": 5
}

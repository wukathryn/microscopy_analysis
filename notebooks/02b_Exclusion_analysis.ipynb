{
 "cells": [
  {
   "cell_type": "code",
   "execution_count": 1,
   "id": "8e5ea4c1-8c1b-478d-9a14-0ecd492a4a2d",
   "metadata": {},
   "outputs": [],
   "source": [
    "import numpy as np\n",
    "from pathlib import Path\n",
    "from aicsimageio import AICSImage\n",
    "from aicsimageio.readers.ome_tiff_reader import OmeTiffReader\n",
    "from aicsimageio.writers import OmeTiffWriter\n",
    "\n",
    "import sys\n",
    "src_path = str(Path.cwd().parent)\n",
    "if src_path not in sys.path:\n",
    "    sys.path.append(src_path)\n",
    "from src.d03_exclusion_analysis.analyze_exclusion import batch_exclusion_analysis\n",
    "\n",
    "%matplotlib notebook\n",
    "%matplotlib inline"
   ]
  },
  {
   "cell_type": "code",
   "execution_count": null,
   "id": "715a4078-b210-4286-b7bc-5f1c235b7e94",
   "metadata": {},
   "outputs": [],
   "source": [
    "input_dirpath = input('Please enter the path for the folder containing images')"
   ]
  },
  {
   "cell_type": "code",
   "execution_count": null,
   "id": "16bfda86-bc9a-48cf-a32f-ee6fab69c78d",
   "metadata": {},
   "outputs": [],
   "source": [
    "channels_d = {'CAAX protein': 0, 'cell membrane': 1}"
   ]
  },
  {
   "cell_type": "code",
   "execution_count": null,
   "id": "a5573836-dace-42f8-b15d-cc4fcbfcf9dd",
   "metadata": {},
   "outputs": [],
   "source": [
    "batch_exclusion_analysis(input_dirpath, channels_d)"
   ]
  },
  {
   "cell_type": "code",
   "execution_count": null,
   "id": "2171d9e2-cfb6-40cc-aaac-34468adb2d4b",
   "metadata": {},
   "outputs": [],
   "source": []
  },
  {
   "cell_type": "code",
   "execution_count": null,
   "id": "31bcea9c-2d29-4218-a53a-46b9a79affb9",
   "metadata": {},
   "outputs": [],
   "source": []
  }
 ],
 "metadata": {
  "kernelspec": {
   "display_name": "Python 3 (ipykernel)",
   "language": "python",
   "name": "python3"
  },
  "language_info": {
   "codemirror_mode": {
    "name": "ipython",
    "version": 3
   },
   "file_extension": ".py",
   "mimetype": "text/x-python",
   "name": "python",
   "nbconvert_exporter": "python",
   "pygments_lexer": "ipython3",
   "version": "3.10.9"
  }
 },
 "nbformat": 4,
 "nbformat_minor": 5
}

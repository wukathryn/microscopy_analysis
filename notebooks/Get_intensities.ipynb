{
 "cells": [
  {
   "cell_type": "code",
   "execution_count": null,
   "id": "291e2f9b-9248-434e-b72d-fe8ead9a0878",
   "metadata": {},
   "outputs": [],
   "source": [
    "from pathlib import Path\n",
    "import numpy as np\n",
    "from aicsimageio import AICSImage\n",
    "from aicsimageio.readers.ome_tiff_reader import OmeTiffReader\n",
    "import pandas as pd\n",
    "import matplotlib.pyplot as plt\n",
    "import seaborn as sns\n",
    "from scipy import stats\n",
    "\n",
    "pixel_size = 0.227"
   ]
  },
  {
   "cell_type": "code",
   "execution_count": null,
   "id": "b01637d6-bf3c-4263-8c67-a08d2f8b3045",
   "metadata": {},
   "outputs": [],
   "source": [
    "input_dir = Path(input())"
   ]
  },
  {
   "cell_type": "code",
   "execution_count": null,
   "id": "b1af08e0-4d3a-4409-8481-69ec423ce99a",
   "metadata": {},
   "outputs": [],
   "source": [
    "exp_dirs = [exp_dir for exp_dir in input_dir.glob('*aligned')]\n",
    "exp_dirs.sort()"
   ]
  },
  {
   "cell_type": "code",
   "execution_count": null,
   "id": "e409017b-2849-4d4e-87f2-b22c45100f06",
   "metadata": {
    "tags": []
   },
   "outputs": [],
   "source": [
    "def get_ch_measurements(imgpath, d):\n",
    "    img_file = AICSImage(imgpath, reader=OmeTiffReader)\n",
    "    img = img_file.data\n",
    "    masked_img = np.ma.masked_array(img, img==0)\n",
    "        \n",
    "    min_chs = np.ma.min(masked_img, axis=(0, 2, 3, 4))\n",
    "    median_chs = np.ma.median(masked_img, axis=(0, 2, 3, 4))\n",
    "    mean_chs = np.ma.mean(masked_img, axis=(0, 2, 3, 4))\n",
    "    max_chs = np.ma.max(masked_img, axis=(0, 2, 3, 4))\n",
    "    intdens_chs = np.ma.sum(masked_img, axis=(0, 2, 3, 4))\n",
    "    \n",
    "    \n",
    "    if len(d)==0:\n",
    "        d['Image name'] = [imgpath.name]\n",
    "        d['Cell area (pixels)'] = [np.count_nonzero(img[0, 0, 0, :, :])]\n",
    "        \n",
    "        for ch in range(img.shape[1]):\n",
    "            d[f'min_ch{ch}'] = [min_chs[ch]]\n",
    "            d[f'median_ch{ch}'] = [median_chs[ch]]\n",
    "            d[f'mean_ch{ch}'] = [mean_chs[ch]]\n",
    "            d[f'max_ch{ch}'] = [max_chs[ch]]\n",
    "            d[f'intdens_ch{ch}'] = [intdens_chs[ch]]\n",
    "        \n",
    "    else:\n",
    "        d['Image name'].append(imgpath.name)\n",
    "        d['Cell area (pixels)'].append(np.count_nonzero(img[0, 0, 0, :, :]))\n",
    "    \n",
    "        for ch in range(img.shape[1]):\n",
    "            d[f'min_ch{ch}'].append(min_chs[ch])\n",
    "            d[f'median_ch{ch}'].append(median_chs[ch])\n",
    "            d[f'mean_ch{ch}'].append(mean_chs[ch])\n",
    "            d[f'max_ch{ch}'].append(max_chs[ch])\n",
    "            d[f'intdens_ch{ch}'].append(intdens_chs[ch])\n",
    "    return d\n",
    "\n",
    "\n",
    "d = {}\n",
    "for exp_dir in exp_dirs:\n",
    "    print(f'Analyzing {exp_dir.name}')\n",
    "    img_dir = exp_dir / 'img_processing' / 'masked_imgs' / 'raw_ometifs_subset_masked_cellmasks'\n",
    "    assert img_dir.is_dir()\n",
    "    # Get all masked raw-tiff images in the image directory\n",
    "    imgpaths = [imgpath for imgpath in img_dir.glob('*.ome.tif')]\n",
    "    imgpaths.sort()\n",
    "\n",
    "    for i, imgpath in enumerate(imgpaths):\n",
    "        d = get_ch_measurements(imgpath, d)\n",
    "    df = pd.DataFrame(d)\n",
    "    df.to_csv(input_dir / f'ch_int_measurements.csv')\n"
   ]
  },
  {
   "cell_type": "code",
   "execution_count": null,
   "id": "4021eb74-575f-43de-9301-e928bd5bb129",
   "metadata": {},
   "outputs": [],
   "source": [
    "def get_ch_measurements(imgpath, d):\n",
    "    img_file = AICSImage(imgpath, reader=OmeTiffReader)\n",
    "    img = img_file.data\n",
    "    masked_img = np.ma.masked_array(img, img==0)\n",
    "        \n",
    "    min_chs = np.ma.min(masked_img, axis=(0, 2, 3, 4))\n",
    "    median_chs = np.ma.median(masked_img, axis=(0, 2, 3, 4))\n",
    "    mean_chs = np.ma.mean(masked_img, axis=(0, 2, 3, 4))\n",
    "    max_chs = np.ma.max(masked_img, axis=(0, 2, 3, 4))\n",
    "    intdens_chs = np.ma.sum(masked_img, axis=(0, 2, 3, 4))\n",
    "    \n",
    "    \n",
    "    if len(d)==0:\n",
    "        d['Image name'] = [imgpath.name]\n",
    "        \n",
    "        for ch in range(img.shape[1]):\n",
    "            d[f'min_ch{ch}_nomask'] = [min_chs[ch]]\n",
    "            d[f'median_ch{ch}_nomask'] = [median_chs[ch]]\n",
    "            d[f'mean_ch{ch}_nomask'] = [mean_chs[ch]]\n",
    "            d[f'max_ch{ch}_nomask'] = [max_chs[ch]]\n",
    "            d[f'intdens_ch{ch}_nomask'] = [intdens_chs[ch]]\n",
    "        \n",
    "    else:\n",
    "        d['Image name'].append(imgpath.name)\n",
    "    \n",
    "        for ch in range(img.shape[1]):\n",
    "            d[f'min_ch{ch}_nomask'].append(min_chs[ch])\n",
    "            d[f'median_ch{ch}_nomask'].append(median_chs[ch])\n",
    "            d[f'mean_ch{ch}_nomask'].append(mean_chs[ch])\n",
    "            d[f'max_ch{ch}_nomask'].append(max_chs[ch])\n",
    "            d[f'intdens_ch{ch}_nomask'].append(intdens_chs[ch])\n",
    "    return d\n",
    "\n",
    "\n",
    "d = {}\n",
    "for exp_dir in exp_dirs:\n",
    "    print(f'Analyzing {exp_dir.name}')\n",
    "    img_dir = exp_dir / 'img_processing' / 'raw_ometifs_subset'\n",
    "    assert img_dir.is_dir()\n",
    "    # Get all masked raw-tiff images in the image directory\n",
    "    imgpaths = [imgpath for imgpath in img_dir.glob('*.ome.tif')]\n",
    "    imgpaths.sort()\n",
    "\n",
    "    for i, imgpath in enumerate(imgpaths):\n",
    "        d = get_ch_measurements(imgpath, d)\n",
    "    df = pd.DataFrame(d)\n",
    "    df.to_csv(input_dir / f'ch_int_measurements_nomask.csv')"
   ]
  },
  {
   "cell_type": "code",
   "execution_count": null,
   "id": "714a0b2e-b401-4c49-8bd2-492460642f91",
   "metadata": {},
   "outputs": [],
   "source": [
    "df = pd.read_csv(input_dir / f'ch_int_measurements.csv')\n",
    "df_nomask = pd.read_csv(input_dir / f'ch_int_measurements_nomask.csv')\n",
    "df['Image basename'] = df['Image name'].str.split('_2023').str[0]\n",
    "df['Image basename']\n",
    "df_nomask['Image basename'] = df_nomask['Image name'].str.split('.ome.tif').str[0]\n",
    "df_nomask['Image basename']\n",
    "merge_df = df.merge(df_nomask, how='outer', on='Image basename')\n",
    "merge_df.to_csv(input_dir / 'merge.csv')\n"
   ]
  },
  {
   "cell_type": "code",
   "execution_count": null,
   "id": "4f7250d0-5868-48f6-b975-98fa743a6afd",
   "metadata": {},
   "outputs": [],
   "source": [
    "merge_df = merge_df.dropna(axis=0)\n",
    "merge_df['Mean phalloidin intensity / cell (au)'] = (merge_df['mean_ch3'] - merge_df['median_ch3_nomask'])\n",
    "merge_df['Median phalloidin intensity / cell (au)'] = (merge_df['mean_ch3'] - merge_df['median_ch3_nomask'])"
   ]
  },
  {
   "cell_type": "code",
   "execution_count": null,
   "id": "df07b0ab-b0cb-4082-9a08-f9192cf8ea38",
   "metadata": {},
   "outputs": [],
   "source": [
    "df"
   ]
  },
  {
   "cell_type": "code",
   "execution_count": null,
   "id": "443439c1-0351-4023-84fb-2a256004fc63",
   "metadata": {},
   "outputs": [],
   "source": [
    "df = pd.read_csv(input_dir / 'combined' / 'merge.csv')\n",
    "wells = [df['Well']=='I5-A1', df['Well']=='I5-A2', df['Well']=='I5-A3', df['Well']=='I5-B1', df['Well']=='I5-B3', df['Well']=='I6-A2']\n",
    "conditions = ['StablAct', 'Control', 'Control', 'DeAct', 'DeAct', 'StablAct']\n",
    "replicate = [1, 1, 2, 1, 2, 2]\n",
    "df['Condition'] = np.select(wells, conditions)\n",
    "df['Condition'] = np.select(wells, conditions)\n",
    "df['% exclusion / cell'] = df['% exclusion / cell']*100\n",
    "df.to_csv(input_dir / 'combined' / 'merge.csv', index=False)"
   ]
  },
  {
   "cell_type": "code",
   "execution_count": null,
   "id": "264293c3-89ab-4035-9a38-1a454231b1e6",
   "metadata": {},
   "outputs": [],
   "source": [
    "plt.rcParams.update({'font.size': 12})\n",
    "x_label = 'Mean phalloidin intensity / cell (au)'\n",
    "y_label = '% exclusion / cell'\n",
    "df_to_plot = df.where(df['Exclude']!='Y')\n",
    "sns.scatterplot(df_to_plot.where(df['Condition']=='Control'), x=x_label, y=y_label, color='gray')\n",
    "plt.suptitle('Control')\n",
    "plt.savefig(input_dir / 'combined' / 'exclusionvsphal_ctrl.png', bbox_inches='tight')\n",
    "plt.show()\n",
    "sns.scatterplot(df_to_plot.where(df['Condition']=='DeAct'), x=x_label, y=y_label, color='gray')\n",
    "plt.suptitle('DeAct')\n",
    "plt.savefig(input_dir / 'combined' / 'exclusionvsphal_deact.png', bbox_inches='tight')\n",
    "plt.show()\n",
    "sns.scatterplot(df_to_plot.where(df['Condition']=='StablAct'), x=x_label, y=y_label, color='gray')\n",
    "plt.suptitle('StablAct')\n",
    "plt.savefig(input_dir / 'combined' / 'exclusionvsphal_stablact.png', bbox_inches='tight')\n",
    "plt.show()\n",
    "sns.scatterplot(df_to_plot, x=x_label, y=y_label, color='gray')\n",
    "plt.suptitle('all')\n",
    "plt.savefig(input_dir / 'combined' / 'exclusionvsphal.png', bbox_inches='tight')\n",
    "plt.show()\n"
   ]
  },
  {
   "cell_type": "code",
   "execution_count": null,
   "id": "37ac367d-bcdd-43d4-957e-bffc5fe67039",
   "metadata": {},
   "outputs": [],
   "source": [
    "sns.scatterplot(df_to_plot.where(df['Condition']=='StablActs'), x=x_label, y=y_label, color='gray')\n",
    "plt.savefig(input_dir / 'combined' / 'exclusionvsphal_ctrl.png')\n",
    "plt.show()"
   ]
  },
  {
   "cell_type": "code",
   "execution_count": null,
   "id": "d7e85a06-9efd-4042-8c78-c19863a2b7ba",
   "metadata": {},
   "outputs": [],
   "source": [
    "y_label = 'Mean phalloidin intensity / cell (au)'\n",
    "y_label_save = 'phal_int.png'\n",
    "df_to_plot = df.where(df['Exclude']!='Y')\n",
    "ymax=40\n",
    "\n",
    "plt.rcParams.update({'font.size': 13})\n",
    "plt.figure(figsize=(5,6))\n",
    "x_order = ['Control', 'DeAct', 'StablAct']\n",
    "x_label = 'Condition'\n",
    "\n",
    "ax = sns.pointplot(df_to_plot, x=x_label, y=y_label, order=x_order, hue='Replicate', color='k', dodge=True, errorbar=None, linestyles='None')\n",
    "ax.set(ylim=(0, ymax))\n",
    "ax.collections[0].set_sizes([20]) \n",
    "ax.collections[1].set_sizes([20]) \n",
    "\n",
    "ax = sns.swarmplot(df_to_plot, x=x_label, y=y_label, order=x_order, legend=False, color='gray', alpha=0.4)\n",
    "ax.collections[2].set_sizes([10]) \n",
    "ax.collections[3].set_sizes([10]) \n",
    "ax.collections[4].set_sizes([10]) \n",
    "ax.get_legend().remove()\n",
    "plt.savefig(input_dir / 'combined' / y_label_save, bbox_inches='tight')\n",
    "\n"
   ]
  },
  {
   "cell_type": "code",
   "execution_count": null,
   "id": "f1c8db3e-fcf0-4350-acf6-92e2db3c0143",
   "metadata": {},
   "outputs": [],
   "source": []
  }
 ],
 "metadata": {
  "kernelspec": {
   "display_name": "Python 3 (ipykernel)",
   "language": "python",
   "name": "python3"
  },
  "language_info": {
   "codemirror_mode": {
    "name": "ipython",
    "version": 3
   },
   "file_extension": ".py",
   "mimetype": "text/x-python",
   "name": "python",
   "nbconvert_exporter": "python",
   "pygments_lexer": "ipython3",
   "version": "3.10.9"
  }
 },
 "nbformat": 4,
 "nbformat_minor": 5
}

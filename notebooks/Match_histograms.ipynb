{
 "cells": [
  {
   "cell_type": "code",
   "execution_count": null,
   "id": "ac8ab307-f5f4-44cc-b33e-8a1e82baab34",
   "metadata": {},
   "outputs": [],
   "source": [
    "from pathlib import Path\n",
    "import sys\n",
    "src_path = str(Path.cwd().parent.parent)\n",
    "if src_path not in sys.path:\n",
    "    sys.path.append(src_path)\n",
    "\n",
    "import src.d01_init_proc.histomatch as hm"
   ]
  },
  {
   "cell_type": "code",
   "execution_count": null,
   "id": "2ec9d20b-ec6e-4782-b427-e31aa2f71b0a",
   "metadata": {},
   "outputs": [],
   "source": [
    "ref_imgpath = Path(input())"
   ]
  },
  {
   "cell_type": "code",
   "execution_count": null,
   "id": "764fe93b-146b-4f47-9ecc-04620aa82eb7",
   "metadata": {},
   "outputs": [],
   "source": [
    "img_dirpath = Path(input())"
   ]
  },
  {
   "cell_type": "code",
   "execution_count": null,
   "id": "438dfc2f-f051-4860-903c-d45d7abe89a9",
   "metadata": {},
   "outputs": [],
   "source": [
    "hm.match_histograms_dir(img_dirpath, ref_imgpath)"
   ]
  }
 ],
 "metadata": {
  "kernelspec": {
   "display_name": "Python 3 (ipykernel)",
   "language": "python",
   "name": "python3"
  },
  "language_info": {
   "codemirror_mode": {
    "name": "ipython",
    "version": 3
   },
   "file_extension": ".py",
   "mimetype": "text/x-python",
   "name": "python",
   "nbconvert_exporter": "python",
   "pygments_lexer": "ipython3",
   "version": "3.10.9"
  }
 },
 "nbformat": 4,
 "nbformat_minor": 5
}
